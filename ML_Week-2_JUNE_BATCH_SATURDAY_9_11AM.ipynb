{
 "cells": [
  {
   "cell_type": "markdown",
   "metadata": {
    "colab_type": "text",
    "id": "tZMk-RZt-QrI"
   },
   "source": [
    "## Problem Statement"
   ]
  },
  {
   "cell_type": "markdown",
   "metadata": {
    "colab_type": "text",
    "id": "I5_NmI6j-QrL"
   },
   "source": [
    "Five million Americans are currently living with heart diseases, and the numbers are expected to rise. It is very important to understand the factors which causes Heart-attacks so that certain precaution can be taken by individuals. In-order to understand the reasons of the Heart-attack, a data was collected from various hospitals across US which is given in US_Heart_Patients.csv. In the data set there are Heart-Att indicates whether the person suffered from Heart attack or not.\n",
    "Perform EDA on the data and build a model which will predict whether the person will suffer from Heart-attack or not.\n",
    "\n",
    "Our Dataset has following variables:\n",
    "\n",
    "1. **Gender**\t        Male/Female\n",
    "2. **age**             Age of the person\n",
    "3. **education**       1 indicates High School, 2 indicates- Secondary School,3 indicates Graduation, 4 indicates Post Graduation\n",
    "4. **currentSmoker**\t1 Indicates person is a smoker and 0 indicates non- smoker\n",
    "5. **cigsPerDay**    \tNumber of cigrattes consumed in a day\n",
    "6. **BP Meds**\t        1 indidates person is consuming BP medicines and 0 indicates person is not consuming BP medicines\n",
    "7. **prevalentStroke**\t1 indidates person had stroke in the past and 0 indicates person did not suffered from stroke in the past\n",
    "8. **prevalentHyp**\t1 indidates person is suffering from Hypertension  and 0 indicates person is not suffering from hypertension\n",
    "9. **diabetes**\t    1 indicates person is diabatic and 0 indicates person in non-diabetic\n",
    "10. **tot cholesterol**\tIndicates total cholesterol level in the body\n",
    "11. **Systolic BP**\t    Systolic BP of the person\n",
    "12. **Diastolic BP**\tDiastolic BP of the person\n",
    "13. **BMI**\tIndicates   BMI level in the body\n",
    "14. **heartRate**\t    Indicates body heartrate\n",
    "15. **glucose**\t        Glucose level of the body\n",
    "16. **Heart-Att**\t    1 Indicates  person suffered from Heart-attack and 0 indicates that the person did not suffer from Heart-attack\n",
    "\n"
   ]
  },
  {
   "cell_type": "markdown",
   "metadata": {
    "colab_type": "text",
    "id": "kmKeQYYcGTVp"
   },
   "source": [
    "## Upload Required Libraries"
   ]
  },
  {
   "cell_type": "code",
   "execution_count": 1,
   "metadata": {
    "ExecuteTime": {
     "end_time": "2021-12-11T04:14:03.540942Z",
     "start_time": "2021-12-11T04:13:58.226376Z"
    },
    "colab": {},
    "colab_type": "code",
    "execution": {
     "iopub.execute_input": "2021-03-08T11:26:22.873482Z",
     "iopub.status.busy": "2021-03-08T11:26:22.872483Z",
     "iopub.status.idle": "2021-03-08T11:26:22.880462Z",
     "shell.execute_reply": "2021-03-08T11:26:22.879465Z",
     "shell.execute_reply.started": "2021-03-08T11:26:22.873482Z"
    },
    "id": "n6LeoEar-QrM"
   },
   "outputs": [],
   "source": [
    "import numpy as np   \n",
    "import pandas as pd\n",
    "\n",
    "import seaborn as sns\n",
    "import matplotlib.pyplot as plt   \n",
    "\n",
    "import warnings\n",
    "warnings.filterwarnings(\"ignore\")\n",
    "sns.set_style(style='white')"
   ]
  },
  {
   "cell_type": "markdown",
   "metadata": {
    "colab_type": "text",
    "id": "Vbx3QZvT-QrQ"
   },
   "source": [
    "## Importing data"
   ]
  },
  {
   "cell_type": "code",
   "execution_count": 2,
   "metadata": {
    "ExecuteTime": {
     "end_time": "2021-12-11T04:14:08.657812Z",
     "start_time": "2021-12-11T04:14:08.627865Z"
    },
    "colab": {},
    "colab_type": "code",
    "execution": {
     "iopub.execute_input": "2021-03-08T11:26:26.653563Z",
     "iopub.status.busy": "2021-03-08T11:26:26.653563Z",
     "iopub.status.idle": "2021-03-08T11:26:26.694963Z",
     "shell.execute_reply": "2021-03-08T11:26:26.693966Z",
     "shell.execute_reply.started": "2021-03-08T11:26:26.653563Z"
    },
    "id": "L6Yxhq6b-QrR"
   },
   "outputs": [],
   "source": [
    "df = pd.read_csv(\"FINAL_US_Heart_Patients.csv\")"
   ]
  },
  {
   "cell_type": "markdown",
   "metadata": {
    "colab_type": "text",
    "id": "fJ83bnL6-QrV"
   },
   "source": [
    "## EDA"
   ]
  },
  {
   "cell_type": "code",
   "execution_count": 3,
   "metadata": {
    "ExecuteTime": {
     "end_time": "2021-12-11T04:14:12.482242Z",
     "start_time": "2021-12-11T04:14:12.427391Z"
    },
    "colab": {
     "base_uri": "https://localhost:8080/",
     "height": 200
    },
    "colab_type": "code",
    "execution": {
     "iopub.execute_input": "2021-03-08T11:26:30.612678Z",
     "iopub.status.busy": "2021-03-08T11:26:30.612678Z",
     "iopub.status.idle": "2021-03-08T11:26:30.645590Z",
     "shell.execute_reply": "2021-03-08T11:26:30.644592Z",
     "shell.execute_reply.started": "2021-03-08T11:26:30.612678Z"
    },
    "id": "K1p4lqVm-QrW",
    "outputId": "6bc753bb-cb79-451b-f333-6883418111ef"
   },
   "outputs": [
    {
     "data": {
      "text/html": [
       "<div>\n",
       "<style scoped>\n",
       "    .dataframe tbody tr th:only-of-type {\n",
       "        vertical-align: middle;\n",
       "    }\n",
       "\n",
       "    .dataframe tbody tr th {\n",
       "        vertical-align: top;\n",
       "    }\n",
       "\n",
       "    .dataframe thead th {\n",
       "        text-align: right;\n",
       "    }\n",
       "</style>\n",
       "<table border=\"1\" class=\"dataframe\">\n",
       "  <thead>\n",
       "    <tr style=\"text-align: right;\">\n",
       "      <th></th>\n",
       "      <th>gender</th>\n",
       "      <th>age</th>\n",
       "      <th>education</th>\n",
       "      <th>smoker</th>\n",
       "      <th>cigsperday</th>\n",
       "      <th>bpmeds</th>\n",
       "      <th>stroke</th>\n",
       "      <th>hyper</th>\n",
       "      <th>diabetes</th>\n",
       "      <th>totchol</th>\n",
       "      <th>sysBP</th>\n",
       "      <th>diaBP</th>\n",
       "      <th>bmi</th>\n",
       "      <th>heartrate</th>\n",
       "      <th>glucose</th>\n",
       "      <th>attack</th>\n",
       "    </tr>\n",
       "  </thead>\n",
       "  <tbody>\n",
       "    <tr>\n",
       "      <th>0</th>\n",
       "      <td>Male</td>\n",
       "      <td>39.0</td>\n",
       "      <td>4.0</td>\n",
       "      <td>0.0</td>\n",
       "      <td>0.0</td>\n",
       "      <td>0.0</td>\n",
       "      <td>0.0</td>\n",
       "      <td>0.0</td>\n",
       "      <td>0.0</td>\n",
       "      <td>195.0</td>\n",
       "      <td>106.0</td>\n",
       "      <td>70.0</td>\n",
       "      <td>26.97</td>\n",
       "      <td>80.0</td>\n",
       "      <td>77.0</td>\n",
       "      <td>0</td>\n",
       "    </tr>\n",
       "    <tr>\n",
       "      <th>1</th>\n",
       "      <td>Female</td>\n",
       "      <td>46.0</td>\n",
       "      <td>2.0</td>\n",
       "      <td>0.0</td>\n",
       "      <td>0.0</td>\n",
       "      <td>0.0</td>\n",
       "      <td>0.0</td>\n",
       "      <td>0.0</td>\n",
       "      <td>0.0</td>\n",
       "      <td>250.0</td>\n",
       "      <td>121.0</td>\n",
       "      <td>81.0</td>\n",
       "      <td>28.73</td>\n",
       "      <td>95.0</td>\n",
       "      <td>76.0</td>\n",
       "      <td>0</td>\n",
       "    </tr>\n",
       "    <tr>\n",
       "      <th>2</th>\n",
       "      <td>Male</td>\n",
       "      <td>48.0</td>\n",
       "      <td>1.0</td>\n",
       "      <td>1.0</td>\n",
       "      <td>20.0</td>\n",
       "      <td>0.0</td>\n",
       "      <td>0.0</td>\n",
       "      <td>0.0</td>\n",
       "      <td>0.0</td>\n",
       "      <td>245.0</td>\n",
       "      <td>127.5</td>\n",
       "      <td>80.0</td>\n",
       "      <td>25.34</td>\n",
       "      <td>75.0</td>\n",
       "      <td>70.0</td>\n",
       "      <td>0</td>\n",
       "    </tr>\n",
       "    <tr>\n",
       "      <th>3</th>\n",
       "      <td>Female</td>\n",
       "      <td>61.0</td>\n",
       "      <td>3.0</td>\n",
       "      <td>1.0</td>\n",
       "      <td>30.0</td>\n",
       "      <td>0.0</td>\n",
       "      <td>0.0</td>\n",
       "      <td>1.0</td>\n",
       "      <td>0.0</td>\n",
       "      <td>225.0</td>\n",
       "      <td>150.0</td>\n",
       "      <td>95.0</td>\n",
       "      <td>28.58</td>\n",
       "      <td>65.0</td>\n",
       "      <td>103.0</td>\n",
       "      <td>1</td>\n",
       "    </tr>\n",
       "    <tr>\n",
       "      <th>4</th>\n",
       "      <td>Female</td>\n",
       "      <td>46.0</td>\n",
       "      <td>3.0</td>\n",
       "      <td>1.0</td>\n",
       "      <td>23.0</td>\n",
       "      <td>0.0</td>\n",
       "      <td>0.0</td>\n",
       "      <td>0.0</td>\n",
       "      <td>0.0</td>\n",
       "      <td>285.0</td>\n",
       "      <td>130.0</td>\n",
       "      <td>84.0</td>\n",
       "      <td>23.10</td>\n",
       "      <td>85.0</td>\n",
       "      <td>85.0</td>\n",
       "      <td>0</td>\n",
       "    </tr>\n",
       "  </tbody>\n",
       "</table>\n",
       "</div>"
      ],
      "text/plain": [
       "   gender   age  education  smoker  cigsperday  bpmeds  stroke  hyper  \\\n",
       "0    Male  39.0        4.0     0.0         0.0     0.0     0.0    0.0   \n",
       "1  Female  46.0        2.0     0.0         0.0     0.0     0.0    0.0   \n",
       "2    Male  48.0        1.0     1.0        20.0     0.0     0.0    0.0   \n",
       "3  Female  61.0        3.0     1.0        30.0     0.0     0.0    1.0   \n",
       "4  Female  46.0        3.0     1.0        23.0     0.0     0.0    0.0   \n",
       "\n",
       "   diabetes  totchol  sysBP  diaBP    bmi  heartrate  glucose  attack  \n",
       "0       0.0    195.0  106.0   70.0  26.97       80.0     77.0       0  \n",
       "1       0.0    250.0  121.0   81.0  28.73       95.0     76.0       0  \n",
       "2       0.0    245.0  127.5   80.0  25.34       75.0     70.0       0  \n",
       "3       0.0    225.0  150.0   95.0  28.58       65.0    103.0       1  \n",
       "4       0.0    285.0  130.0   84.0  23.10       85.0     85.0       0  "
      ]
     },
     "execution_count": 3,
     "metadata": {},
     "output_type": "execute_result"
    }
   ],
   "source": [
    "# Check top few records to get a feel of the data structure\n",
    "df.head()"
   ]
  },
  {
   "cell_type": "markdown",
   "metadata": {},
   "source": [
    "\n",
    "### Shape"
   ]
  },
  {
   "cell_type": "code",
   "execution_count": 4,
   "metadata": {
    "ExecuteTime": {
     "end_time": "2021-12-11T04:14:45.220511Z",
     "start_time": "2021-12-11T04:14:45.214529Z"
    },
    "execution": {
     "iopub.execute_input": "2021-03-08T11:26:34.575109Z",
     "iopub.status.busy": "2021-03-08T11:26:34.574111Z",
     "iopub.status.idle": "2021-03-08T11:26:34.589070Z",
     "shell.execute_reply": "2021-03-08T11:26:34.588074Z",
     "shell.execute_reply.started": "2021-03-08T11:26:34.575109Z"
    }
   },
   "outputs": [
    {
     "data": {
      "text/plain": [
       "(4240, 16)"
      ]
     },
     "execution_count": 4,
     "metadata": {},
     "output_type": "execute_result"
    }
   ],
   "source": [
    "df.shape"
   ]
  },
  {
   "cell_type": "markdown",
   "metadata": {},
   "source": [
    "### Data type of data features"
   ]
  },
  {
   "cell_type": "code",
   "execution_count": 5,
   "metadata": {
    "ExecuteTime": {
     "end_time": "2021-12-11T04:15:02.653737Z",
     "start_time": "2021-12-11T04:15:02.608858Z"
    },
    "colab": {
     "base_uri": "https://localhost:8080/",
     "height": 301
    },
    "colab_type": "code",
    "execution": {
     "iopub.execute_input": "2021-03-08T11:26:37.208094Z",
     "iopub.status.busy": "2021-03-08T11:26:37.207096Z",
     "iopub.status.idle": "2021-03-08T11:26:37.240007Z",
     "shell.execute_reply": "2021-03-08T11:26:37.239011Z",
     "shell.execute_reply.started": "2021-03-08T11:26:37.207096Z"
    },
    "id": "4x7gT9wu-Qrg",
    "outputId": "7d23449b-de7a-4831-8ef8-a7091c2655db"
   },
   "outputs": [
    {
     "name": "stdout",
     "output_type": "stream",
     "text": [
      "<class 'pandas.core.frame.DataFrame'>\n",
      "RangeIndex: 4240 entries, 0 to 4239\n",
      "Data columns (total 16 columns):\n",
      " #   Column      Non-Null Count  Dtype  \n",
      "---  ------      --------------  -----  \n",
      " 0   gender      4232 non-null   object \n",
      " 1   age         4238 non-null   float64\n",
      " 2   education   4130 non-null   float64\n",
      " 3   smoker      4237 non-null   float64\n",
      " 4   cigsperday  4209 non-null   float64\n",
      " 5   bpmeds      4180 non-null   float64\n",
      " 6   stroke      4231 non-null   float64\n",
      " 7   hyper       4238 non-null   float64\n",
      " 8   diabetes    4238 non-null   float64\n",
      " 9   totchol     4180 non-null   float64\n",
      " 10  sysBP       4236 non-null   float64\n",
      " 11  diaBP       4235 non-null   float64\n",
      " 12  bmi         4216 non-null   float64\n",
      " 13  heartrate   4236 non-null   float64\n",
      " 14  glucose     3849 non-null   float64\n",
      " 15  attack      4240 non-null   int64  \n",
      "dtypes: float64(14), int64(1), object(1)\n",
      "memory usage: 530.1+ KB\n"
     ]
    }
   ],
   "source": [
    "df.info()"
   ]
  },
  {
   "cell_type": "markdown",
   "metadata": {},
   "source": [
    "Making different list for categorical columns and numerical columns based on the above."
   ]
  },
  {
   "cell_type": "code",
   "execution_count": 6,
   "metadata": {
    "ExecuteTime": {
     "end_time": "2021-12-11T04:19:12.761973Z",
     "start_time": "2021-12-11T04:19:12.743024Z"
    },
    "execution": {
     "iopub.execute_input": "2021-03-08T11:27:30.709864Z",
     "iopub.status.busy": "2021-03-08T11:27:30.709864Z",
     "iopub.status.idle": "2021-03-08T11:27:30.715843Z",
     "shell.execute_reply": "2021-03-08T11:27:30.714846Z",
     "shell.execute_reply.started": "2021-03-08T11:27:30.709864Z"
    }
   },
   "outputs": [
    {
     "name": "stdout",
     "output_type": "stream",
     "text": [
      "['gender', 'education', 'smoker', 'bpmeds', 'stroke', 'hyper', 'diabetes', 'attack']\n",
      "['age', 'cigsperday', 'totchol', 'sysBP', 'diaBP', 'bmi', 'heartrate', 'glucose']\n"
     ]
    }
   ],
   "source": [
    "cat=[\"gender\",\"education\",\"smoker\",\"bpmeds\",\"stroke\",\"hyper\",\"diabetes\",\"attack\"]\n",
    "num =[x for x in df.columns if x not in cat] # list comprehension\n",
    "\n",
    "print(cat)\n",
    "print(num)"
   ]
  },
  {
   "cell_type": "markdown",
   "metadata": {},
   "source": [
    "### Summary Statistics"
   ]
  },
  {
   "cell_type": "code",
   "execution_count": 7,
   "metadata": {
    "ExecuteTime": {
     "end_time": "2021-12-11T04:19:38.517229Z",
     "start_time": "2021-12-11T04:19:38.431459Z"
    },
    "execution": {
     "iopub.execute_input": "2021-03-08T11:29:24.586495Z",
     "iopub.status.busy": "2021-03-08T11:29:24.585498Z",
     "iopub.status.idle": "2021-03-08T11:29:24.647334Z",
     "shell.execute_reply": "2021-03-08T11:29:24.646335Z",
     "shell.execute_reply.started": "2021-03-08T11:29:24.586495Z"
    }
   },
   "outputs": [
    {
     "data": {
      "text/html": [
       "<div>\n",
       "<style scoped>\n",
       "    .dataframe tbody tr th:only-of-type {\n",
       "        vertical-align: middle;\n",
       "    }\n",
       "\n",
       "    .dataframe tbody tr th {\n",
       "        vertical-align: top;\n",
       "    }\n",
       "\n",
       "    .dataframe thead th {\n",
       "        text-align: right;\n",
       "    }\n",
       "</style>\n",
       "<table border=\"1\" class=\"dataframe\">\n",
       "  <thead>\n",
       "    <tr style=\"text-align: right;\">\n",
       "      <th></th>\n",
       "      <th>count</th>\n",
       "      <th>mean</th>\n",
       "      <th>std</th>\n",
       "      <th>min</th>\n",
       "      <th>25%</th>\n",
       "      <th>50%</th>\n",
       "      <th>75%</th>\n",
       "      <th>max</th>\n",
       "    </tr>\n",
       "  </thead>\n",
       "  <tbody>\n",
       "    <tr>\n",
       "      <th>age</th>\n",
       "      <td>4238.0</td>\n",
       "      <td>50.0</td>\n",
       "      <td>9.0</td>\n",
       "      <td>32.0</td>\n",
       "      <td>42.0</td>\n",
       "      <td>49.0</td>\n",
       "      <td>56.0</td>\n",
       "      <td>70.0</td>\n",
       "    </tr>\n",
       "    <tr>\n",
       "      <th>cigsperday</th>\n",
       "      <td>4209.0</td>\n",
       "      <td>9.0</td>\n",
       "      <td>12.0</td>\n",
       "      <td>0.0</td>\n",
       "      <td>0.0</td>\n",
       "      <td>0.0</td>\n",
       "      <td>20.0</td>\n",
       "      <td>70.0</td>\n",
       "    </tr>\n",
       "    <tr>\n",
       "      <th>totchol</th>\n",
       "      <td>4180.0</td>\n",
       "      <td>237.0</td>\n",
       "      <td>45.0</td>\n",
       "      <td>107.0</td>\n",
       "      <td>206.0</td>\n",
       "      <td>234.0</td>\n",
       "      <td>263.0</td>\n",
       "      <td>696.0</td>\n",
       "    </tr>\n",
       "    <tr>\n",
       "      <th>sysBP</th>\n",
       "      <td>4236.0</td>\n",
       "      <td>132.0</td>\n",
       "      <td>22.0</td>\n",
       "      <td>84.0</td>\n",
       "      <td>117.0</td>\n",
       "      <td>128.0</td>\n",
       "      <td>144.0</td>\n",
       "      <td>295.0</td>\n",
       "    </tr>\n",
       "    <tr>\n",
       "      <th>diaBP</th>\n",
       "      <td>4235.0</td>\n",
       "      <td>83.0</td>\n",
       "      <td>12.0</td>\n",
       "      <td>48.0</td>\n",
       "      <td>75.0</td>\n",
       "      <td>82.0</td>\n",
       "      <td>90.0</td>\n",
       "      <td>142.0</td>\n",
       "    </tr>\n",
       "    <tr>\n",
       "      <th>bmi</th>\n",
       "      <td>4216.0</td>\n",
       "      <td>26.0</td>\n",
       "      <td>4.0</td>\n",
       "      <td>16.0</td>\n",
       "      <td>23.0</td>\n",
       "      <td>25.0</td>\n",
       "      <td>28.0</td>\n",
       "      <td>57.0</td>\n",
       "    </tr>\n",
       "    <tr>\n",
       "      <th>heartrate</th>\n",
       "      <td>4236.0</td>\n",
       "      <td>76.0</td>\n",
       "      <td>12.0</td>\n",
       "      <td>44.0</td>\n",
       "      <td>68.0</td>\n",
       "      <td>75.0</td>\n",
       "      <td>83.0</td>\n",
       "      <td>143.0</td>\n",
       "    </tr>\n",
       "    <tr>\n",
       "      <th>glucose</th>\n",
       "      <td>3849.0</td>\n",
       "      <td>82.0</td>\n",
       "      <td>24.0</td>\n",
       "      <td>40.0</td>\n",
       "      <td>71.0</td>\n",
       "      <td>78.0</td>\n",
       "      <td>87.0</td>\n",
       "      <td>394.0</td>\n",
       "    </tr>\n",
       "  </tbody>\n",
       "</table>\n",
       "</div>"
      ],
      "text/plain": [
       "             count   mean   std    min    25%    50%    75%    max\n",
       "age         4238.0   50.0   9.0   32.0   42.0   49.0   56.0   70.0\n",
       "cigsperday  4209.0    9.0  12.0    0.0    0.0    0.0   20.0   70.0\n",
       "totchol     4180.0  237.0  45.0  107.0  206.0  234.0  263.0  696.0\n",
       "sysBP       4236.0  132.0  22.0   84.0  117.0  128.0  144.0  295.0\n",
       "diaBP       4235.0   83.0  12.0   48.0   75.0   82.0   90.0  142.0\n",
       "bmi         4216.0   26.0   4.0   16.0   23.0   25.0   28.0   57.0\n",
       "heartrate   4236.0   76.0  12.0   44.0   68.0   75.0   83.0  143.0\n",
       "glucose     3849.0   82.0  24.0   40.0   71.0   78.0   87.0  394.0"
      ]
     },
     "execution_count": 7,
     "metadata": {},
     "output_type": "execute_result"
    }
   ],
   "source": [
    "df[num].describe().round(0).T"
   ]
  },
  {
   "cell_type": "code",
   "execution_count": 8,
   "metadata": {
    "ExecuteTime": {
     "end_time": "2021-12-11T04:21:03.531425Z",
     "start_time": "2021-12-11T04:21:03.478535Z"
    },
    "execution": {
     "iopub.execute_input": "2021-03-08T11:30:08.490265Z",
     "iopub.status.busy": "2021-03-08T11:30:08.489267Z",
     "iopub.status.idle": "2021-03-08T11:30:08.568056Z",
     "shell.execute_reply": "2021-03-08T11:30:08.567059Z",
     "shell.execute_reply.started": "2021-03-08T11:30:08.490265Z"
    }
   },
   "outputs": [
    {
     "name": "stdout",
     "output_type": "stream",
     "text": [
      "gender   No of Levels: 2\n",
      "Female    2414\n",
      "Male      1818\n",
      "Name: gender, dtype: int64\n",
      "\n",
      "\n",
      "\n",
      "education   No of Levels: 4\n",
      "1.0    1717\n",
      "2.0    1252\n",
      "3.0     688\n",
      "4.0     473\n",
      "Name: education, dtype: int64\n",
      "\n",
      "\n",
      "\n",
      "smoker   No of Levels: 2\n",
      "0.0    2143\n",
      "1.0    2094\n",
      "Name: smoker, dtype: int64\n",
      "\n",
      "\n",
      "\n",
      "bpmeds   No of Levels: 2\n",
      "0.0    4056\n",
      "1.0     124\n",
      "Name: bpmeds, dtype: int64\n",
      "\n",
      "\n",
      "\n",
      "stroke   No of Levels: 2\n",
      "0.0    4206\n",
      "1.0      25\n",
      "Name: stroke, dtype: int64\n",
      "\n",
      "\n",
      "\n",
      "hyper   No of Levels: 2\n",
      "0.0    2922\n",
      "1.0    1316\n",
      "Name: hyper, dtype: int64\n",
      "\n",
      "\n",
      "\n",
      "diabetes   No of Levels: 2\n",
      "0.0    4129\n",
      "1.0     109\n",
      "Name: diabetes, dtype: int64\n",
      "\n",
      "\n",
      "\n",
      "attack   No of Levels: 2\n",
      "0    3596\n",
      "1     644\n",
      "Name: attack, dtype: int64\n",
      "\n",
      "\n",
      "\n"
     ]
    }
   ],
   "source": [
    "for catvar in cat:\n",
    "    print(catvar,'  No of Levels:',df[catvar].nunique())\n",
    "    print(df[catvar].value_counts())\n",
    "    print('\\n\\n')"
   ]
  },
  {
   "cell_type": "markdown",
   "metadata": {},
   "source": [
    "Checking Target Variable class proportion."
   ]
  },
  {
   "cell_type": "code",
   "execution_count": 9,
   "metadata": {
    "ExecuteTime": {
     "end_time": "2021-12-11T04:22:09.286925Z",
     "start_time": "2021-12-11T04:22:09.258967Z"
    }
   },
   "outputs": [
    {
     "data": {
      "text/plain": [
       "0    84.811321\n",
       "1    15.188679\n",
       "Name: attack, dtype: float64"
      ]
     },
     "execution_count": 9,
     "metadata": {},
     "output_type": "execute_result"
    }
   ],
   "source": [
    "df['attack'].value_counts(1)*100"
   ]
  },
  {
   "cell_type": "markdown",
   "metadata": {},
   "source": [
    "### Missing Values"
   ]
  },
  {
   "cell_type": "code",
   "execution_count": 10,
   "metadata": {
    "ExecuteTime": {
     "end_time": "2021-12-11T04:27:54.483945Z",
     "start_time": "2021-12-11T04:27:54.464001Z"
    },
    "colab": {
     "base_uri": "https://localhost:8080/",
     "height": 515
    },
    "colab_type": "code",
    "execution": {
     "iopub.execute_input": "2021-03-07T17:31:48.012954Z",
     "iopub.status.busy": "2021-03-07T17:31:48.012954Z",
     "iopub.status.idle": "2021-03-07T17:31:48.036856Z",
     "shell.execute_reply": "2021-03-07T17:31:48.035858Z",
     "shell.execute_reply.started": "2021-03-07T17:31:48.012954Z"
    },
    "id": "6aykwVT9-Qr4",
    "outputId": "a5c0b365-fdfa-4401-a06a-f104bc5bd303"
   },
   "outputs": [
    {
     "data": {
      "text/plain": [
       "gender          8\n",
       "age             2\n",
       "education     110\n",
       "smoker          3\n",
       "cigsperday     31\n",
       "bpmeds         60\n",
       "stroke          9\n",
       "hyper           2\n",
       "diabetes        2\n",
       "totchol        60\n",
       "sysBP           4\n",
       "diaBP           5\n",
       "bmi            24\n",
       "heartrate       4\n",
       "glucose       391\n",
       "attack          0\n",
       "dtype: int64"
      ]
     },
     "execution_count": 10,
     "metadata": {},
     "output_type": "execute_result"
    }
   ],
   "source": [
    "# Are there any missing values ?\n",
    "df.isnull().sum() #.isna().sum()"
   ]
  },
  {
   "cell_type": "markdown",
   "metadata": {
    "ExecuteTime": {
     "end_time": "2020-09-11T07:35:43.105262Z",
     "start_time": "2020-09-11T07:35:43.024476Z"
    },
    "execution": {
     "iopub.execute_input": "2021-03-07T17:31:52.121955Z",
     "iopub.status.busy": "2021-03-07T17:31:52.120956Z",
     "iopub.status.idle": "2021-03-07T17:31:52.133921Z",
     "shell.execute_reply": "2021-03-07T17:31:52.132922Z",
     "shell.execute_reply.started": "2021-03-07T17:31:52.121955Z"
    }
   },
   "source": [
    "All independent features have missing values"
   ]
  },
  {
   "cell_type": "markdown",
   "metadata": {},
   "source": [
    "### Duplicate Values"
   ]
  },
  {
   "cell_type": "code",
   "execution_count": 11,
   "metadata": {
    "ExecuteTime": {
     "end_time": "2021-12-11T04:28:13.327259Z",
     "start_time": "2021-12-11T04:28:13.298339Z"
    },
    "execution": {
     "iopub.execute_input": "2021-03-07T17:31:53.673002Z",
     "iopub.status.busy": "2021-03-07T17:31:53.673002Z",
     "iopub.status.idle": "2021-03-07T17:31:53.721839Z",
     "shell.execute_reply": "2021-03-07T17:31:53.720838Z",
     "shell.execute_reply.started": "2021-03-07T17:31:53.673002Z"
    }
   },
   "outputs": [
    {
     "data": {
      "text/plain": [
       "0"
      ]
     },
     "execution_count": 11,
     "metadata": {},
     "output_type": "execute_result"
    }
   ],
   "source": [
    "## Are there any duplicate records?\n",
    "\n",
    "dups = df.duplicated()\n",
    "dups.sum()"
   ]
  },
  {
   "cell_type": "markdown",
   "metadata": {},
   "source": [
    "## Missing values Imputation"
   ]
  },
  {
   "cell_type": "code",
   "execution_count": 12,
   "metadata": {
    "ExecuteTime": {
     "end_time": "2021-12-11T04:28:44.853965Z",
     "start_time": "2021-12-11T04:28:44.843992Z"
    },
    "execution": {
     "iopub.execute_input": "2021-03-07T17:32:32.240038Z",
     "iopub.status.busy": "2021-03-07T17:32:32.239041Z",
     "iopub.status.idle": "2021-03-07T17:32:32.261978Z",
     "shell.execute_reply": "2021-03-07T17:32:32.260981Z",
     "shell.execute_reply.started": "2021-03-07T17:32:32.240038Z"
    }
   },
   "outputs": [
    {
     "data": {
      "text/plain": [
       "0    Female\n",
       "dtype: object"
      ]
     },
     "execution_count": 12,
     "metadata": {},
     "output_type": "execute_result"
    }
   ],
   "source": [
    "df.gender.mode()"
   ]
  },
  {
   "cell_type": "code",
   "execution_count": 13,
   "metadata": {
    "ExecuteTime": {
     "end_time": "2021-12-11T04:29:04.971404Z",
     "start_time": "2021-12-11T04:29:04.958439Z"
    },
    "execution": {
     "iopub.execute_input": "2021-03-07T17:32:34.483994Z",
     "iopub.status.busy": "2021-03-07T17:32:34.483994Z",
     "iopub.status.idle": "2021-03-07T17:32:34.496959Z",
     "shell.execute_reply": "2021-03-07T17:32:34.495962Z",
     "shell.execute_reply.started": "2021-03-07T17:32:34.483994Z"
    }
   },
   "outputs": [],
   "source": [
    "df.gender=df.gender.fillna(\"Female\")"
   ]
  },
  {
   "cell_type": "code",
   "execution_count": 14,
   "metadata": {
    "ExecuteTime": {
     "end_time": "2021-12-11T04:29:33.140738Z",
     "start_time": "2021-12-11T04:29:33.121791Z"
    },
    "execution": {
     "iopub.execute_input": "2021-03-07T17:33:19.676930Z",
     "iopub.status.busy": "2021-03-07T17:33:19.675930Z",
     "iopub.status.idle": "2021-03-07T17:33:19.710837Z",
     "shell.execute_reply": "2021-03-07T17:33:19.709840Z",
     "shell.execute_reply.started": "2021-03-07T17:33:19.676930Z"
    }
   },
   "outputs": [],
   "source": [
    "for column in cat:\n",
    "    df[column].fillna(df[column].mode()[0], inplace=True)"
   ]
  },
  {
   "cell_type": "code",
   "execution_count": 15,
   "metadata": {
    "ExecuteTime": {
     "end_time": "2021-12-11T04:29:46.470991Z",
     "start_time": "2021-12-11T04:29:44.505913Z"
    },
    "execution": {
     "iopub.execute_input": "2021-03-07T17:33:33.924985Z",
     "iopub.status.busy": "2021-03-07T17:33:33.924985Z",
     "iopub.status.idle": "2021-03-07T17:33:34.336206Z",
     "shell.execute_reply": "2021-03-07T17:33:34.335237Z",
     "shell.execute_reply.started": "2021-03-07T17:33:33.924985Z"
    }
   },
   "outputs": [
    {
     "data": {
      "image/png": "[encoded data removed]",
      "text/plain": [
       "<Figure size 1080x432 with 8 Axes>"
      ]
     },
     "metadata": {},
     "output_type": "display_data"
    }
   ],
   "source": [
    "# construct box plot for continuous variables\n",
    "df[num].plot(kind = 'box', subplots = True, figsize = (15,6))\n",
    "plt.tight_layout();"
   ]
  },
  {
   "cell_type": "markdown",
   "metadata": {},
   "source": [
    "No outliers are present here in \"age\", we will use mean to impute null values in \"age\" column"
   ]
  },
  {
   "cell_type": "code",
   "execution_count": 16,
   "metadata": {
    "ExecuteTime": {
     "end_time": "2021-12-11T04:30:19.423413Z",
     "start_time": "2021-12-11T04:30:19.407456Z"
    },
    "execution": {
     "iopub.execute_input": "2021-03-07T17:33:46.688446Z",
     "iopub.status.busy": "2021-03-07T17:33:46.687448Z",
     "iopub.status.idle": "2021-03-07T17:33:46.710387Z",
     "shell.execute_reply": "2021-03-07T17:33:46.709389Z",
     "shell.execute_reply.started": "2021-03-07T17:33:46.688446Z"
    }
   },
   "outputs": [],
   "source": [
    "df.age=df.age.fillna(df.age.mean())"
   ]
  },
  {
   "cell_type": "markdown",
   "metadata": {
    "ExecuteTime": {
     "end_time": "2021-03-24T04:39:11.340210Z",
     "start_time": "2021-03-24T04:39:11.329239Z"
    },
    "execution": {
     "iopub.execute_input": "2021-03-07T17:33:49.222507Z",
     "iopub.status.busy": "2021-03-07T17:33:49.221510Z",
     "iopub.status.idle": "2021-03-07T17:33:49.227491Z",
     "shell.execute_reply": "2021-03-07T17:33:49.226496Z",
     "shell.execute_reply.started": "2021-03-07T17:33:49.222507Z"
    }
   },
   "source": [
    "All other variables have possible ouliers and hence median would be used for imputation"
   ]
  },
  {
   "cell_type": "code",
   "execution_count": 17,
   "metadata": {
    "ExecuteTime": {
     "end_time": "2021-12-11T04:30:49.533163Z",
     "start_time": "2021-12-11T04:30:49.510223Z"
    },
    "execution": {
     "iopub.execute_input": "2021-03-07T17:33:51.800671Z",
     "iopub.status.busy": "2021-03-07T17:33:51.800671Z",
     "iopub.status.idle": "2021-03-07T17:33:51.827600Z",
     "shell.execute_reply": "2021-03-07T17:33:51.826602Z",
     "shell.execute_reply.started": "2021-03-07T17:33:51.800671Z"
    }
   },
   "outputs": [],
   "source": [
    "for i in num:\n",
    "    if i != 'age':\n",
    "        df[i].fillna(df[i].median(),inplace=True)"
   ]
  },
  {
   "cell_type": "code",
   "execution_count": 18,
   "metadata": {
    "ExecuteTime": {
     "end_time": "2021-12-11T04:30:55.761257Z",
     "start_time": "2021-12-11T04:30:55.746300Z"
    },
    "execution": {
     "iopub.execute_input": "2021-03-07T17:33:53.899302Z",
     "iopub.status.busy": "2021-03-07T17:33:53.899302Z",
     "iopub.status.idle": "2021-03-07T17:33:53.920245Z",
     "shell.execute_reply": "2021-03-07T17:33:53.919248Z",
     "shell.execute_reply.started": "2021-03-07T17:33:53.899302Z"
    }
   },
   "outputs": [
    {
     "data": {
      "text/plain": [
       "gender        0\n",
       "age           0\n",
       "education     0\n",
       "smoker        0\n",
       "cigsperday    0\n",
       "bpmeds        0\n",
       "stroke        0\n",
       "hyper         0\n",
       "diabetes      0\n",
       "totchol       0\n",
       "sysBP         0\n",
       "diaBP         0\n",
       "bmi           0\n",
       "heartrate     0\n",
       "glucose       0\n",
       "attack        0\n",
       "dtype: int64"
      ]
     },
     "execution_count": 18,
     "metadata": {},
     "output_type": "execute_result"
    }
   ],
   "source": [
    "df.isnull().sum()"
   ]
  },
  {
   "cell_type": "markdown",
   "metadata": {
    "ExecuteTime": {
     "end_time": "2020-09-11T07:35:44.564887Z",
     "start_time": "2020-09-11T07:35:44.352452Z"
    },
    "execution": {
     "iopub.execute_input": "2021-03-07T17:33:56.726191Z",
     "iopub.status.busy": "2021-03-07T17:33:56.725192Z",
     "iopub.status.idle": "2021-03-07T17:33:56.739155Z",
     "shell.execute_reply": "2021-03-07T17:33:56.738157Z",
     "shell.execute_reply.started": "2021-03-07T17:33:56.726191Z"
    }
   },
   "source": [
    "All null values have been appropriately imputed"
   ]
  },
  {
   "cell_type": "markdown",
   "metadata": {},
   "source": [
    "## Univariate Analysis"
   ]
  },
  {
   "cell_type": "code",
   "execution_count": 19,
   "metadata": {
    "ExecuteTime": {
     "end_time": "2021-12-11T04:31:34.685577Z",
     "start_time": "2021-12-11T04:31:25.669119Z"
    },
    "scrolled": false
   },
   "outputs": [
    {
     "data": {
      "image/png": "[encoded data removed]",
      "text/plain": [
       "<Figure size 432x288 with 2 Axes>"
      ]
     },
     "metadata": {},
     "output_type": "display_data"
    },
    {
     "data": {
      "image/png": "[encoded data removed]",
      "text/plain": [
       "<Figure size 432x288 with 2 Axes>"
      ]
     },
     "metadata": {},
     "output_type": "display_data"
    },
    {
     "data": {
      "image/png": "[encoded data removed]",
      "text/plain": [
       "<Figure size 432x288 with 2 Axes>"
      ]
     },
     "metadata": {},
     "output_type": "display_data"
    },
    {
     "data": {
      "image/png": "[encoded data removed]",
      "text/plain": [
       "<Figure size 432x288 with 2 Axes>"
      ]
     },
     "metadata": {},
     "output_type": "display_data"
    },
    {
     "data": {
      "image/png": "[encoded data removed]",
      "text/plain": [
       "<Figure size 432x288 with 2 Axes>"
      ]
     },
     "metadata": {},
     "output_type": "display_data"
    },
    {
     "data": {
      "image/png": "[encoded data removed]",
      "text/plain": [
       "<Figure size 432x288 with 2 Axes>"
      ]
     },
     "metadata": {},
     "output_type": "display_data"
    },
    {
     "data": {
      "image/png": "[encoded data removed]",
      "text/plain": [
       "<Figure size 432x288 with 2 Axes>"
      ]
     },
     "metadata": {},
     "output_type": "display_data"
    },
    {
     "data": {
      "image/png": "[encoded data removed]",
      "text/plain": [
       "<Figure size 432x288 with 2 Axes>"
      ]
     },
     "metadata": {},
     "output_type": "display_data"
    }
   ],
   "source": [
    "for cols in num:\n",
    "    fig,(axes1,axes2) = plt.subplots(nrows=1,ncols=2)\n",
    "    sns.histplot(data=df,x=cols,kde=True,ax=axes1);\n",
    "    sns.boxplot(data = df, x=cols, ax=axes2);\n",
    "    plt.show();"
   ]
  },
  {
   "cell_type": "markdown",
   "metadata": {
    "ExecuteTime": {
     "end_time": "2020-04-20T05:10:17.927857Z",
     "start_time": "2020-04-20T05:10:17.924865Z"
    }
   },
   "source": [
    "**There are some possible outliers and the same would be treated accordingly.**"
   ]
  },
  {
   "cell_type": "markdown",
   "metadata": {},
   "source": [
    "##  Bivariate and Multivariate Analysis"
   ]
  },
  {
   "cell_type": "markdown",
   "metadata": {},
   "source": [
    "### Target Variable vs Numeric Independent Variables"
   ]
  },
  {
   "cell_type": "code",
   "execution_count": 20,
   "metadata": {
    "ExecuteTime": {
     "end_time": "2021-12-11T04:33:22.445131Z",
     "start_time": "2021-12-11T04:33:20.184392Z"
    },
    "scrolled": false
   },
   "outputs": [
    {
     "data": {
      "image/png": "[encoded data removed]",
      "text/plain": [
       "<Figure size 432x288 with 1 Axes>"
      ]
     },
     "metadata": {},
     "output_type": "display_data"
    },
    {
     "data": {
      "image/png": "[encoded data removed]",
      "text/plain": [
       "<Figure size 432x288 with 1 Axes>"
      ]
     },
     "metadata": {},
     "output_type": "display_data"
    },
    {
     "data": {
      "image/png": "[encoded data removed]",
      "text/plain": [
       "<Figure size 432x288 with 1 Axes>"
      ]
     },
     "metadata": {},
     "output_type": "display_data"
    },
    {
     "data": {
      "image/png": "[encoded data removed]",
      "text/plain": [
       "<Figure size 432x288 with 1 Axes>"
      ]
     },
     "metadata": {},
     "output_type": "display_data"
    },
    {
     "data": {
      "image/png": "[encoded data removed]",
      "text/plain": [
       "<Figure size 432x288 with 1 Axes>"
      ]
     },
     "metadata": {},
     "output_type": "display_data"
    },
    {
     "data": {
      "image/png": "[encoded data removed]",
      "text/plain": [
       "<Figure size 432x288 with 1 Axes>"
      ]
     },
     "metadata": {},
     "output_type": "display_data"
    },
    {
     "data": {
      "image/png": "[encoded data removed]",
      "text/plain": [
       "<Figure size 432x288 with 1 Axes>"
      ]
     },
     "metadata": {},
     "output_type": "display_data"
    },
    {
     "data": {
      "image/png": "[encoded data removed]",
      "text/plain": [
       "<Figure size 432x288 with 1 Axes>"
      ]
     },
     "metadata": {},
     "output_type": "display_data"
    }
   ],
   "source": [
    "for cols in num:\n",
    "    sns.boxplot(data=df,x='attack',y=cols)\n",
    "    plt.show();"
   ]
  },
  {
   "cell_type": "markdown",
   "metadata": {},
   "source": [
    "### Target Variable vs Categorical Independent Variables"
   ]
  },
  {
   "cell_type": "code",
   "execution_count": 21,
   "metadata": {
    "ExecuteTime": {
     "end_time": "2021-12-11T04:34:32.491118Z",
     "start_time": "2021-12-11T04:34:30.053155Z"
    },
    "scrolled": false
   },
   "outputs": [
    {
     "data": {
      "image/png": "[encoded data removed]",
      "text/plain": [
       "<Figure size 432x288 with 1 Axes>"
      ]
     },
     "metadata": {},
     "output_type": "display_data"
    },
    {
     "data": {
      "image/png": "[encoded data removed]",
      "text/plain": [
       "<Figure size 432x288 with 1 Axes>"
      ]
     },
     "metadata": {},
     "output_type": "display_data"
    },
    {
     "data": {
      "image/png": "[encoded data removed]",
      "text/plain": [
       "<Figure size 432x288 with 1 Axes>"
      ]
     },
     "metadata": {},
     "output_type": "display_data"
    },
    {
     "data": {
      "image/png": "[encoded data removed]",
      "text/plain": [
       "<Figure size 432x288 with 1 Axes>"
      ]
     },
     "metadata": {},
     "output_type": "display_data"
    },
    {
     "data": {
      "image/png": "[encoded data removed]",
      "text/plain": [
       "<Figure size 432x288 with 1 Axes>"
      ]
     },
     "metadata": {},
     "output_type": "display_data"
    },
    {
     "data": {
      "image/png": "[encoded data removed]",
      "text/plain": [
       "<Figure size 432x288 with 1 Axes>"
      ]
     },
     "metadata": {},
     "output_type": "display_data"
    },
    {
     "data": {
      "image/png": "[encoded data removed]",
      "text/plain": [
       "<Figure size 432x288 with 1 Axes>"
      ]
     },
     "metadata": {},
     "output_type": "display_data"
    }
   ],
   "source": [
    "for cols in cat:\n",
    "    if cols != 'attack':\n",
    "        tab = pd.crosstab(df['attack'],df[cols],normalize='index')\n",
    "        tab.plot(kind='bar',stacked = True)\n",
    "        plt.show();"
   ]
  },
  {
   "cell_type": "markdown",
   "metadata": {
    "colab_type": "text",
    "id": "D7RiXPbP-QsR"
   },
   "source": [
    "### Correlation Plot"
   ]
  },
  {
   "cell_type": "code",
   "execution_count": 24,
   "metadata": {
    "ExecuteTime": {
     "end_time": "2021-12-11T04:38:33.626510Z",
     "start_time": "2021-12-11T04:38:32.880985Z"
    },
    "colab": {
     "base_uri": "https://localhost:8080/",
     "height": 632
    },
    "colab_type": "code",
    "execution": {
     "iopub.execute_input": "2021-03-07T17:40:34.115250Z",
     "iopub.status.busy": "2021-03-07T17:40:34.114253Z",
     "iopub.status.idle": "2021-03-07T17:40:35.333396Z",
     "shell.execute_reply": "2021-03-07T17:40:35.332399Z",
     "shell.execute_reply.started": "2021-03-07T17:40:34.115250Z"
    },
    "id": "-M2wgNR9-QsU",
    "outputId": "cccb4576-7196-4797-8b8f-ff180e972efe"
   },
   "outputs": [
    {
     "data": {
      "image/png": "[encoded data removed]",
      "text/plain": [
       "<Figure size 720x720 with 2 Axes>"
      ]
     },
     "metadata": {},
     "output_type": "display_data"
    }
   ],
   "source": [
    "plt.figure(figsize=(10,10))\n",
    "sns.heatmap(df[num].corr().round(2),\n",
    "            annot=True, \n",
    "            mask = np.triu(np.ones_like(df[num].corr()),1),\n",
    "            cmap='plasma',\n",
    "            vmin =-1, \n",
    "            vmax=1, \n",
    "            linewidths=2, \n",
    "            annot_kws={'size':10});\n"
   ]
  },
  {
   "cell_type": "markdown",
   "metadata": {
    "colab_type": "text",
    "id": "NiJDsPXv-QsX"
   },
   "source": [
    "As expected, systolic BP and Diastolic BP are highly correlated. One of them would be dropped."
   ]
  },
  {
   "cell_type": "code",
   "execution_count": 25,
   "metadata": {
    "ExecuteTime": {
     "end_time": "2021-12-11T04:40:03.050216Z",
     "start_time": "2021-12-11T04:40:03.039278Z"
    },
    "colab": {},
    "colab_type": "code",
    "execution": {
     "iopub.execute_input": "2021-03-07T17:40:51.873538Z",
     "iopub.status.busy": "2021-03-07T17:40:51.873538Z",
     "iopub.status.idle": "2021-03-07T17:40:51.883508Z",
     "shell.execute_reply": "2021-03-07T17:40:51.882511Z",
     "shell.execute_reply.started": "2021-03-07T17:40:51.873538Z"
    },
    "id": "iDzuqgKE-QsY"
   },
   "outputs": [],
   "source": [
    "# Dropping Systolic_BP\n",
    "df.drop(['sysBP'], axis = 1,inplace=True)"
   ]
  },
  {
   "cell_type": "code",
   "execution_count": 26,
   "metadata": {
    "ExecuteTime": {
     "end_time": "2021-12-11T04:40:21.587817Z",
     "start_time": "2021-12-11T04:40:21.576847Z"
    }
   },
   "outputs": [],
   "source": [
    "num.remove('sysBP') # removing the dropped variable from list of numeric variables"
   ]
  },
  {
   "cell_type": "code",
   "execution_count": 27,
   "metadata": {
    "ExecuteTime": {
     "end_time": "2021-12-11T04:40:45.650616Z",
     "start_time": "2021-12-11T04:40:33.853529Z"
    },
    "execution": {
     "iopub.execute_input": "2021-03-07T17:40:57.666335Z",
     "iopub.status.busy": "2021-03-07T17:40:57.665336Z",
     "iopub.status.idle": "2021-03-07T17:41:30.287473Z",
     "shell.execute_reply": "2021-03-07T17:41:30.286509Z",
     "shell.execute_reply.started": "2021-03-07T17:40:57.666335Z"
    }
   },
   "outputs": [
    {
     "data": {
      "image/png": "[encoded data removed]",
      "text/plain": [
       "<Figure size 1260x1260 with 35 Axes>"
      ]
     },
     "metadata": {},
     "output_type": "display_data"
    }
   ],
   "source": [
    "sns.pairplot(df[num], corner=True, diag_kind='kde');"
   ]
  },
  {
   "cell_type": "code",
   "execution_count": 28,
   "metadata": {
    "ExecuteTime": {
     "end_time": "2021-12-11T04:41:48.487883Z",
     "start_time": "2021-12-11T04:41:48.463949Z"
    },
    "execution": {
     "iopub.execute_input": "2021-03-07T17:41:31.448992Z",
     "iopub.status.busy": "2021-03-07T17:41:31.448992Z",
     "iopub.status.idle": "2021-03-07T17:41:31.479910Z",
     "shell.execute_reply": "2021-03-07T17:41:31.478911Z",
     "shell.execute_reply.started": "2021-03-07T17:41:31.448992Z"
    }
   },
   "outputs": [],
   "source": [
    "df =pd.get_dummies(df, columns=['gender'],drop_first=True)"
   ]
  },
  {
   "cell_type": "code",
   "execution_count": 29,
   "metadata": {
    "ExecuteTime": {
     "end_time": "2021-12-11T04:41:49.560457Z",
     "start_time": "2021-12-11T04:41:49.524553Z"
    },
    "colab": {
     "base_uri": "https://localhost:8080/",
     "height": 237
    },
    "colab_type": "code",
    "execution": {
     "iopub.execute_input": "2021-03-07T17:41:34.764595Z",
     "iopub.status.busy": "2021-03-07T17:41:34.764595Z",
     "iopub.status.idle": "2021-03-07T17:41:34.790525Z",
     "shell.execute_reply": "2021-03-07T17:41:34.789526Z",
     "shell.execute_reply.started": "2021-03-07T17:41:34.764595Z"
    },
    "id": "PpDsEq_I-Qsc",
    "outputId": "e2c5463e-ad51-4724-e1c8-82e4ac715f7c"
   },
   "outputs": [
    {
     "data": {
      "text/html": [
       "<div>\n",
       "<style scoped>\n",
       "    .dataframe tbody tr th:only-of-type {\n",
       "        vertical-align: middle;\n",
       "    }\n",
       "\n",
       "    .dataframe tbody tr th {\n",
       "        vertical-align: top;\n",
       "    }\n",
       "\n",
       "    .dataframe thead th {\n",
       "        text-align: right;\n",
       "    }\n",
       "</style>\n",
       "<table border=\"1\" class=\"dataframe\">\n",
       "  <thead>\n",
       "    <tr style=\"text-align: right;\">\n",
       "      <th></th>\n",
       "      <th>age</th>\n",
       "      <th>education</th>\n",
       "      <th>smoker</th>\n",
       "      <th>cigsperday</th>\n",
       "      <th>bpmeds</th>\n",
       "      <th>stroke</th>\n",
       "      <th>hyper</th>\n",
       "      <th>diabetes</th>\n",
       "      <th>totchol</th>\n",
       "      <th>diaBP</th>\n",
       "      <th>bmi</th>\n",
       "      <th>heartrate</th>\n",
       "      <th>glucose</th>\n",
       "      <th>attack</th>\n",
       "      <th>gender_Male</th>\n",
       "    </tr>\n",
       "  </thead>\n",
       "  <tbody>\n",
       "    <tr>\n",
       "      <th>0</th>\n",
       "      <td>39.0</td>\n",
       "      <td>4.0</td>\n",
       "      <td>0.0</td>\n",
       "      <td>0.0</td>\n",
       "      <td>0.0</td>\n",
       "      <td>0.0</td>\n",
       "      <td>0.0</td>\n",
       "      <td>0.0</td>\n",
       "      <td>195.0</td>\n",
       "      <td>70.0</td>\n",
       "      <td>26.97</td>\n",
       "      <td>80.0</td>\n",
       "      <td>77.0</td>\n",
       "      <td>0</td>\n",
       "      <td>1</td>\n",
       "    </tr>\n",
       "    <tr>\n",
       "      <th>1</th>\n",
       "      <td>46.0</td>\n",
       "      <td>2.0</td>\n",
       "      <td>0.0</td>\n",
       "      <td>0.0</td>\n",
       "      <td>0.0</td>\n",
       "      <td>0.0</td>\n",
       "      <td>0.0</td>\n",
       "      <td>0.0</td>\n",
       "      <td>250.0</td>\n",
       "      <td>81.0</td>\n",
       "      <td>28.73</td>\n",
       "      <td>95.0</td>\n",
       "      <td>76.0</td>\n",
       "      <td>0</td>\n",
       "      <td>0</td>\n",
       "    </tr>\n",
       "    <tr>\n",
       "      <th>2</th>\n",
       "      <td>48.0</td>\n",
       "      <td>1.0</td>\n",
       "      <td>1.0</td>\n",
       "      <td>20.0</td>\n",
       "      <td>0.0</td>\n",
       "      <td>0.0</td>\n",
       "      <td>0.0</td>\n",
       "      <td>0.0</td>\n",
       "      <td>245.0</td>\n",
       "      <td>80.0</td>\n",
       "      <td>25.34</td>\n",
       "      <td>75.0</td>\n",
       "      <td>70.0</td>\n",
       "      <td>0</td>\n",
       "      <td>1</td>\n",
       "    </tr>\n",
       "    <tr>\n",
       "      <th>3</th>\n",
       "      <td>61.0</td>\n",
       "      <td>3.0</td>\n",
       "      <td>1.0</td>\n",
       "      <td>30.0</td>\n",
       "      <td>0.0</td>\n",
       "      <td>0.0</td>\n",
       "      <td>1.0</td>\n",
       "      <td>0.0</td>\n",
       "      <td>225.0</td>\n",
       "      <td>95.0</td>\n",
       "      <td>28.58</td>\n",
       "      <td>65.0</td>\n",
       "      <td>103.0</td>\n",
       "      <td>1</td>\n",
       "      <td>0</td>\n",
       "    </tr>\n",
       "    <tr>\n",
       "      <th>4</th>\n",
       "      <td>46.0</td>\n",
       "      <td>3.0</td>\n",
       "      <td>1.0</td>\n",
       "      <td>23.0</td>\n",
       "      <td>0.0</td>\n",
       "      <td>0.0</td>\n",
       "      <td>0.0</td>\n",
       "      <td>0.0</td>\n",
       "      <td>285.0</td>\n",
       "      <td>84.0</td>\n",
       "      <td>23.10</td>\n",
       "      <td>85.0</td>\n",
       "      <td>85.0</td>\n",
       "      <td>0</td>\n",
       "      <td>0</td>\n",
       "    </tr>\n",
       "  </tbody>\n",
       "</table>\n",
       "</div>"
      ],
      "text/plain": [
       "    age  education  smoker  cigsperday  bpmeds  stroke  hyper  diabetes  \\\n",
       "0  39.0        4.0     0.0         0.0     0.0     0.0    0.0       0.0   \n",
       "1  46.0        2.0     0.0         0.0     0.0     0.0    0.0       0.0   \n",
       "2  48.0        1.0     1.0        20.0     0.0     0.0    0.0       0.0   \n",
       "3  61.0        3.0     1.0        30.0     0.0     0.0    1.0       0.0   \n",
       "4  46.0        3.0     1.0        23.0     0.0     0.0    0.0       0.0   \n",
       "\n",
       "   totchol  diaBP    bmi  heartrate  glucose  attack  gender_Male  \n",
       "0    195.0   70.0  26.97       80.0     77.0       0            1  \n",
       "1    250.0   81.0  28.73       95.0     76.0       0            0  \n",
       "2    245.0   80.0  25.34       75.0     70.0       0            1  \n",
       "3    225.0   95.0  28.58       65.0    103.0       1            0  \n",
       "4    285.0   84.0  23.10       85.0     85.0       0            0  "
      ]
     },
     "execution_count": 29,
     "metadata": {},
     "output_type": "execute_result"
    }
   ],
   "source": [
    "df.head()"
   ]
  },
  {
   "cell_type": "code",
   "execution_count": 30,
   "metadata": {
    "ExecuteTime": {
     "end_time": "2021-12-11T04:42:11.194598Z",
     "start_time": "2021-12-11T04:42:11.171662Z"
    }
   },
   "outputs": [
    {
     "name": "stdout",
     "output_type": "stream",
     "text": [
      "<class 'pandas.core.frame.DataFrame'>\n",
      "RangeIndex: 4240 entries, 0 to 4239\n",
      "Data columns (total 15 columns):\n",
      " #   Column       Non-Null Count  Dtype  \n",
      "---  ------       --------------  -----  \n",
      " 0   age          4240 non-null   float64\n",
      " 1   education    4240 non-null   float64\n",
      " 2   smoker       4240 non-null   float64\n",
      " 3   cigsperday   4240 non-null   float64\n",
      " 4   bpmeds       4240 non-null   float64\n",
      " 5   stroke       4240 non-null   float64\n",
      " 6   hyper        4240 non-null   float64\n",
      " 7   diabetes     4240 non-null   float64\n",
      " 8   totchol      4240 non-null   float64\n",
      " 9   diaBP        4240 non-null   float64\n",
      " 10  bmi          4240 non-null   float64\n",
      " 11  heartrate    4240 non-null   float64\n",
      " 12  glucose      4240 non-null   float64\n",
      " 13  attack       4240 non-null   int64  \n",
      " 14  gender_Male  4240 non-null   uint8  \n",
      "dtypes: float64(13), int64(1), uint8(1)\n",
      "memory usage: 468.0 KB\n"
     ]
    }
   ],
   "source": [
    "df.info()"
   ]
  },
  {
   "cell_type": "markdown",
   "metadata": {},
   "source": [
    "## outlier treatment"
   ]
  },
  {
   "cell_type": "markdown",
   "metadata": {},
   "source": [
    "We already know from EDA that of the variables of continuous nature in the dataset, except age, rest have outliers."
   ]
  },
  {
   "cell_type": "code",
   "execution_count": 31,
   "metadata": {
    "ExecuteTime": {
     "end_time": "2021-12-11T04:42:39.529592Z",
     "start_time": "2021-12-11T04:42:39.518621Z"
    },
    "colab": {},
    "colab_type": "code",
    "execution": {
     "iopub.execute_input": "2021-03-07T17:41:50.275683Z",
     "iopub.status.busy": "2021-03-07T17:41:50.274682Z",
     "iopub.status.idle": "2021-03-07T17:41:50.291636Z",
     "shell.execute_reply": "2021-03-07T17:41:50.290638Z",
     "shell.execute_reply.started": "2021-03-07T17:41:50.275683Z"
    },
    "id": "XCuWEHaMH9JL"
   },
   "outputs": [],
   "source": [
    "def remove_outlier(col):\n",
    "    Q1,Q3=np.percentile(col,[25,75])\n",
    "    IQR=Q3-Q1\n",
    "    lower_range= Q1-(1.5 * IQR)\n",
    "    upper_range= Q3+(1.5 * IQR)\n",
    "    return lower_range, upper_range"
   ]
  },
  {
   "cell_type": "code",
   "execution_count": 32,
   "metadata": {
    "ExecuteTime": {
     "end_time": "2021-12-11T04:43:12.436414Z",
     "start_time": "2021-12-11T04:43:12.407467Z"
    },
    "colab": {},
    "colab_type": "code",
    "execution": {
     "iopub.execute_input": "2021-03-07T17:41:52.885574Z",
     "iopub.status.busy": "2021-03-07T17:41:52.885574Z",
     "iopub.status.idle": "2021-03-07T17:41:52.924468Z",
     "shell.execute_reply": "2021-03-07T17:41:52.923501Z",
     "shell.execute_reply.started": "2021-03-07T17:41:52.885574Z"
    },
    "id": "QJxW2Mj-ICqv"
   },
   "outputs": [],
   "source": [
    "for column in num:\n",
    "    lr,ur=remove_outlier(df[column])\n",
    "    df[column]=np.where(df[column]>ur,ur,df[column])\n",
    "    df[column]=np.where(df[column]<lr,lr,df[column])"
   ]
  },
  {
   "cell_type": "code",
   "execution_count": 33,
   "metadata": {
    "ExecuteTime": {
     "end_time": "2021-12-11T04:43:18.856492Z",
     "start_time": "2021-12-11T04:43:17.476421Z"
    },
    "colab": {
     "base_uri": "https://localhost:8080/",
     "height": 707
    },
    "colab_type": "code",
    "execution": {
     "iopub.execute_input": "2021-03-07T17:41:54.528168Z",
     "iopub.status.busy": "2021-03-07T17:41:54.528168Z",
     "iopub.status.idle": "2021-03-07T17:41:54.863313Z",
     "shell.execute_reply": "2021-03-07T17:41:54.862318Z",
     "shell.execute_reply.started": "2021-03-07T17:41:54.528168Z"
    },
    "id": "Btr7GTCHIIZo",
    "outputId": "d3875e7f-0928-4fc0-97b8-9a9694331f06"
   },
   "outputs": [
    {
     "data": {
      "image/png": "[encoded data removed]",
      "text/plain": [
       "<Figure size 864x576 with 7 Axes>"
      ]
     },
     "metadata": {},
     "output_type": "display_data"
    }
   ],
   "source": [
    "df[num].plot(kind = 'box', subplots = True, figsize=(12,8))\n",
    "plt.tight_layout();"
   ]
  },
  {
   "cell_type": "markdown",
   "metadata": {
    "colab_type": "text",
    "id": "NvFP87-D-Qsx"
   },
   "source": [
    "## Train-Test Split"
   ]
  },
  {
   "cell_type": "code",
   "execution_count": 34,
   "metadata": {
    "ExecuteTime": {
     "end_time": "2021-12-11T04:47:36.439125Z",
     "start_time": "2021-12-11T04:47:36.421204Z"
    },
    "colab": {},
    "colab_type": "code",
    "execution": {
     "iopub.execute_input": "2021-03-07T17:42:39.100299Z",
     "iopub.status.busy": "2021-03-07T17:42:39.099298Z",
     "iopub.status.idle": "2021-03-07T17:42:39.108274Z",
     "shell.execute_reply": "2021-03-07T17:42:39.107278Z",
     "shell.execute_reply.started": "2021-03-07T17:42:39.100299Z"
    },
    "id": "t8wwRu0A-Qsx"
   },
   "outputs": [],
   "source": [
    "# Copy all the predictor variables into X dataframe\n",
    "X = df.drop('attack', axis=1)\n",
    "\n",
    "# Copy target into the y dataframe.  \n",
    "y = df['attack']"
   ]
  },
  {
   "cell_type": "code",
   "execution_count": 35,
   "metadata": {
    "ExecuteTime": {
     "end_time": "2021-12-11T04:47:57.454673Z",
     "start_time": "2021-12-11T04:47:55.549328Z"
    },
    "colab": {},
    "colab_type": "code",
    "execution": {
     "iopub.execute_input": "2021-03-07T17:43:01.609174Z",
     "iopub.status.busy": "2021-03-07T17:43:01.608176Z",
     "iopub.status.idle": "2021-03-07T17:43:01.847397Z",
     "shell.execute_reply": "2021-03-07T17:43:01.847397Z",
     "shell.execute_reply.started": "2021-03-07T17:43:01.609174Z"
    },
    "id": "7_SLrCcj-Qs4"
   },
   "outputs": [],
   "source": [
    "# Split X and y into training and test set in 75:25 ratio\n",
    "from sklearn.model_selection import train_test_split\n",
    "\n",
    "X_train, X_test, y_train, y_test = train_test_split(X, y, test_size=0.25 , random_state=1)"
   ]
  },
  {
   "cell_type": "markdown",
   "metadata": {},
   "source": [
    "## Scaling"
   ]
  },
  {
   "cell_type": "code",
   "execution_count": 36,
   "metadata": {
    "ExecuteTime": {
     "end_time": "2021-12-11T04:48:32.100476Z",
     "start_time": "2021-12-11T04:48:32.087544Z"
    }
   },
   "outputs": [],
   "source": [
    "from sklearn.preprocessing import MinMaxScaler"
   ]
  },
  {
   "cell_type": "code",
   "execution_count": 37,
   "metadata": {
    "ExecuteTime": {
     "end_time": "2021-12-11T04:48:59.628884Z",
     "start_time": "2021-12-11T04:48:59.614887Z"
    }
   },
   "outputs": [],
   "source": [
    "scaler = MinMaxScaler()"
   ]
  },
  {
   "cell_type": "code",
   "execution_count": 38,
   "metadata": {
    "ExecuteTime": {
     "end_time": "2021-12-11T04:49:30.034214Z",
     "start_time": "2021-12-11T04:49:30.006289Z"
    }
   },
   "outputs": [],
   "source": [
    "X_train = scaler.fit_transform(X_train)\n",
    "X_test = scaler.transform(X_test)"
   ]
  },
  {
   "cell_type": "markdown",
   "metadata": {
    "colab_type": "text",
    "id": "qjLAbDHe-Qs7"
   },
   "source": [
    "## Naive Bayes Model"
   ]
  },
  {
   "cell_type": "code",
   "execution_count": 39,
   "metadata": {
    "ExecuteTime": {
     "end_time": "2021-12-11T04:53:21.276244Z",
     "start_time": "2021-12-11T04:53:21.252306Z"
    },
    "execution": {
     "iopub.execute_input": "2021-03-07T17:43:07.682356Z",
     "iopub.status.busy": "2021-03-07T17:43:07.682356Z",
     "iopub.status.idle": "2021-03-07T17:43:07.703298Z",
     "shell.execute_reply": "2021-03-07T17:43:07.702299Z",
     "shell.execute_reply.started": "2021-03-07T17:43:07.682356Z"
    }
   },
   "outputs": [],
   "source": [
    "from sklearn.naive_bayes import GaussianNB\n",
    "from sklearn.metrics import plot_confusion_matrix, classification_report, recall_score"
   ]
  },
  {
   "cell_type": "code",
   "execution_count": 40,
   "metadata": {
    "ExecuteTime": {
     "end_time": "2021-12-11T04:53:39.677571Z",
     "start_time": "2021-12-11T04:53:39.657625Z"
    },
    "colab": {
     "base_uri": "https://localhost:8080/",
     "height": 35
    },
    "colab_type": "code",
    "execution": {
     "iopub.execute_input": "2021-03-07T17:43:08.888731Z",
     "iopub.status.busy": "2021-03-07T17:43:08.888731Z",
     "iopub.status.idle": "2021-03-07T17:43:08.906682Z",
     "shell.execute_reply": "2021-03-07T17:43:08.905686Z",
     "shell.execute_reply.started": "2021-03-07T17:43:08.888731Z"
    },
    "id": "bsfYqQ0I-Qs7",
    "outputId": "212fedaf-4c72-4666-d1b9-bb0b8735d47b"
   },
   "outputs": [
    {
     "data": {
      "text/plain": [
       "GaussianNB()"
      ]
     },
     "execution_count": 40,
     "metadata": {},
     "output_type": "execute_result"
    }
   ],
   "source": [
    "NB_model = GaussianNB()\n",
    "NB_model.fit(X_train, y_train)"
   ]
  },
  {
   "cell_type": "markdown",
   "metadata": {},
   "source": [
    "### Training Performance"
   ]
  },
  {
   "cell_type": "code",
   "execution_count": 41,
   "metadata": {
    "ExecuteTime": {
     "end_time": "2021-12-11T04:54:20.142304Z",
     "start_time": "2021-12-11T04:54:20.124353Z"
    },
    "execution": {
     "iopub.execute_input": "2021-03-07T17:43:17.913336Z",
     "iopub.status.busy": "2021-03-07T17:43:17.913336Z",
     "iopub.status.idle": "2021-03-07T17:43:17.961207Z",
     "shell.execute_reply": "2021-03-07T17:43:17.960209Z",
     "shell.execute_reply.started": "2021-03-07T17:43:17.913336Z"
    }
   },
   "outputs": [
    {
     "name": "stdout",
     "output_type": "stream",
     "text": [
      "0.8311320754716981 0.14730290456431536\n"
     ]
    }
   ],
   "source": [
    "## Performance Matrix on train data set\n",
    "NB_train_predict = NB_model.predict(X_train)\n",
    "NB_train_score = NB_model.score(X_train, y_train) # acc score\n",
    "NB_train_recall_score = recall_score(y_train,NB_train_predict)\n",
    "print(NB_train_score,NB_train_recall_score)"
   ]
  },
  {
   "cell_type": "code",
   "execution_count": null,
   "metadata": {
    "execution": {
     "iopub.execute_input": "2021-03-07T17:43:17.913336Z",
     "iopub.status.busy": "2021-03-07T17:43:17.913336Z",
     "iopub.status.idle": "2021-03-07T17:43:17.961207Z",
     "shell.execute_reply": "2021-03-07T17:43:17.960209Z",
     "shell.execute_reply.started": "2021-03-07T17:43:17.913336Z"
    }
   },
   "outputs": [],
   "source": [
    "# plot_confusion_matrix(NB_model,X_train,y_train);\n",
    "# plt.grid(b=False,axis='both');"
   ]
  },
  {
   "cell_type": "code",
   "execution_count": null,
   "metadata": {
    "execution": {
     "iopub.execute_input": "2021-03-07T17:43:17.913336Z",
     "iopub.status.busy": "2021-03-07T17:43:17.913336Z",
     "iopub.status.idle": "2021-03-07T17:43:17.961207Z",
     "shell.execute_reply": "2021-03-07T17:43:17.960209Z",
     "shell.execute_reply.started": "2021-03-07T17:43:17.913336Z"
    }
   },
   "outputs": [],
   "source": [
    "# print(classification_report(y_train, NB_train_predict))"
   ]
  },
  {
   "cell_type": "markdown",
   "metadata": {},
   "source": [
    "### Test Performance"
   ]
  },
  {
   "cell_type": "code",
   "execution_count": 42,
   "metadata": {
    "ExecuteTime": {
     "end_time": "2021-12-11T04:54:34.311123Z",
     "start_time": "2021-12-11T04:54:34.291177Z"
    },
    "execution": {
     "iopub.execute_input": "2021-03-07T17:43:22.574622Z",
     "iopub.status.busy": "2021-03-07T17:43:22.574622Z",
     "iopub.status.idle": "2021-03-07T17:43:22.606537Z",
     "shell.execute_reply": "2021-03-07T17:43:22.605571Z",
     "shell.execute_reply.started": "2021-03-07T17:43:22.574622Z"
    }
   },
   "outputs": [
    {
     "name": "stdout",
     "output_type": "stream",
     "text": [
      "0.8311320754716981 0.16049382716049382\n"
     ]
    }
   ],
   "source": [
    "## Performance Matrix on test data set\n",
    "NB_test_predict = NB_model.predict(X_test)\n",
    "NB_test_score = NB_model.score(X_test, y_test)\n",
    "NB_test_recall_score = recall_score(y_test,NB_test_predict)\n",
    "print(NB_test_score,NB_test_recall_score)"
   ]
  },
  {
   "cell_type": "code",
   "execution_count": null,
   "metadata": {
    "execution": {
     "iopub.execute_input": "2021-03-07T17:43:22.574622Z",
     "iopub.status.busy": "2021-03-07T17:43:22.574622Z",
     "iopub.status.idle": "2021-03-07T17:43:22.606537Z",
     "shell.execute_reply": "2021-03-07T17:43:22.605571Z",
     "shell.execute_reply.started": "2021-03-07T17:43:22.574622Z"
    }
   },
   "outputs": [],
   "source": [
    "# plot_confusion_matrix(NB_model, X_test, y_test)\n",
    "# plt.grid(b=False);"
   ]
  },
  {
   "cell_type": "code",
   "execution_count": null,
   "metadata": {
    "execution": {
     "iopub.execute_input": "2021-03-07T17:43:22.574622Z",
     "iopub.status.busy": "2021-03-07T17:43:22.574622Z",
     "iopub.status.idle": "2021-03-07T17:43:22.606537Z",
     "shell.execute_reply": "2021-03-07T17:43:22.605571Z",
     "shell.execute_reply.started": "2021-03-07T17:43:22.574622Z"
    }
   },
   "outputs": [],
   "source": [
    "# print(classification_report(y_test, NB_test_predict))"
   ]
  },
  {
   "cell_type": "markdown",
   "metadata": {},
   "source": [
    "\n",
    "\n",
    "## Discriminant Analysis"
   ]
  },
  {
   "cell_type": "code",
   "execution_count": 43,
   "metadata": {
    "ExecuteTime": {
     "end_time": "2021-12-11T04:55:35.353111Z",
     "start_time": "2021-12-11T04:55:34.889351Z"
    },
    "execution": {
     "iopub.execute_input": "2021-03-07T17:43:28.924434Z",
     "iopub.status.busy": "2021-03-07T17:43:28.924434Z",
     "iopub.status.idle": "2021-03-07T17:43:29.058549Z",
     "shell.execute_reply": "2021-03-07T17:43:29.057582Z",
     "shell.execute_reply.started": "2021-03-07T17:43:28.924434Z"
    }
   },
   "outputs": [
    {
     "data": {
      "text/plain": [
       "LinearDiscriminantAnalysis()"
      ]
     },
     "execution_count": 43,
     "metadata": {},
     "output_type": "execute_result"
    }
   ],
   "source": [
    "from sklearn.discriminant_analysis import LinearDiscriminantAnalysis\n",
    "LDA_model= LinearDiscriminantAnalysis()\n",
    "LDA_model.fit(X_train, y_train)"
   ]
  },
  {
   "cell_type": "markdown",
   "metadata": {},
   "source": [
    "### Training Performance"
   ]
  },
  {
   "cell_type": "code",
   "execution_count": 44,
   "metadata": {
    "ExecuteTime": {
     "end_time": "2021-12-11T04:55:38.692369Z",
     "start_time": "2021-12-11T04:55:38.672421Z"
    },
    "execution": {
     "iopub.execute_input": "2021-03-07T17:43:32.025277Z",
     "iopub.status.busy": "2021-03-07T17:43:32.024281Z",
     "iopub.status.idle": "2021-03-07T17:43:32.065170Z",
     "shell.execute_reply": "2021-03-07T17:43:32.064171Z",
     "shell.execute_reply.started": "2021-03-07T17:43:32.025277Z"
    }
   },
   "outputs": [
    {
     "name": "stdout",
     "output_type": "stream",
     "text": [
      "0.8503144654088051 0.06846473029045644\n"
     ]
    }
   ],
   "source": [
    "## Performance Matrix on train data set\n",
    "LDA_train_predict = LDA_model.predict(X_train)\n",
    "LDA_train_score = LDA_model.score(X_train, y_train)\n",
    "LDA_train_recall_score = recall_score(y_train,LDA_train_predict)\n",
    "print(LDA_train_score,LDA_train_recall_score)"
   ]
  },
  {
   "cell_type": "code",
   "execution_count": null,
   "metadata": {
    "execution": {
     "iopub.execute_input": "2021-03-07T17:43:32.025277Z",
     "iopub.status.busy": "2021-03-07T17:43:32.024281Z",
     "iopub.status.idle": "2021-03-07T17:43:32.065170Z",
     "shell.execute_reply": "2021-03-07T17:43:32.064171Z",
     "shell.execute_reply.started": "2021-03-07T17:43:32.025277Z"
    }
   },
   "outputs": [],
   "source": [
    "# plot_confusion_matrix(LDA_model,X_train,y_train)\n",
    "# plt.grid(b=False);"
   ]
  },
  {
   "cell_type": "code",
   "execution_count": null,
   "metadata": {
    "execution": {
     "iopub.execute_input": "2021-03-07T17:43:32.025277Z",
     "iopub.status.busy": "2021-03-07T17:43:32.024281Z",
     "iopub.status.idle": "2021-03-07T17:43:32.065170Z",
     "shell.execute_reply": "2021-03-07T17:43:32.064171Z",
     "shell.execute_reply.started": "2021-03-07T17:43:32.025277Z"
    }
   },
   "outputs": [],
   "source": [
    "# print(classification_report(y_train, LDA_train_predict))"
   ]
  },
  {
   "cell_type": "markdown",
   "metadata": {},
   "source": [
    "### Test Performance"
   ]
  },
  {
   "cell_type": "code",
   "execution_count": 45,
   "metadata": {
    "ExecuteTime": {
     "end_time": "2021-12-11T04:55:48.507854Z",
     "start_time": "2021-12-11T04:55:48.496884Z"
    },
    "execution": {
     "iopub.execute_input": "2021-03-07T17:43:35.496639Z",
     "iopub.status.busy": "2021-03-07T17:43:35.495608Z",
     "iopub.status.idle": "2021-03-07T17:43:35.546471Z",
     "shell.execute_reply": "2021-03-07T17:43:35.545474Z",
     "shell.execute_reply.started": "2021-03-07T17:43:35.496639Z"
    }
   },
   "outputs": [
    {
     "name": "stdout",
     "output_type": "stream",
     "text": [
      "0.8509433962264151 0.07407407407407407\n"
     ]
    }
   ],
   "source": [
    "## Performance Matrix on test data set\n",
    "LDA_test_predict = LDA_model.predict(X_test)\n",
    "LDA_test_score = LDA_model.score(X_test, y_test)\n",
    "LDA_test_recall_score = recall_score(y_test,LDA_test_predict)\n",
    "print(LDA_test_score,LDA_test_recall_score)"
   ]
  },
  {
   "cell_type": "code",
   "execution_count": null,
   "metadata": {
    "execution": {
     "iopub.execute_input": "2021-03-07T17:43:35.496639Z",
     "iopub.status.busy": "2021-03-07T17:43:35.495608Z",
     "iopub.status.idle": "2021-03-07T17:43:35.546471Z",
     "shell.execute_reply": "2021-03-07T17:43:35.545474Z",
     "shell.execute_reply.started": "2021-03-07T17:43:35.496639Z"
    }
   },
   "outputs": [],
   "source": [
    "# plot_confusion_matrix(LDA_model,X_test,y_test)\n",
    "# plt.grid(b=False);"
   ]
  },
  {
   "cell_type": "code",
   "execution_count": null,
   "metadata": {
    "execution": {
     "iopub.execute_input": "2021-03-07T17:43:35.496639Z",
     "iopub.status.busy": "2021-03-07T17:43:35.495608Z",
     "iopub.status.idle": "2021-03-07T17:43:35.546471Z",
     "shell.execute_reply": "2021-03-07T17:43:35.545474Z",
     "shell.execute_reply.started": "2021-03-07T17:43:35.496639Z"
    }
   },
   "outputs": [],
   "source": [
    "# print(classification_report(y_test, LDA_test_predict))"
   ]
  },
  {
   "cell_type": "markdown",
   "metadata": {},
   "source": [
    "## Ada Boost"
   ]
  },
  {
   "cell_type": "code",
   "execution_count": 46,
   "metadata": {
    "ExecuteTime": {
     "end_time": "2021-12-11T04:56:21.861330Z",
     "start_time": "2021-12-11T04:56:21.359903Z"
    },
    "execution": {
     "iopub.execute_input": "2021-03-07T17:43:44.857467Z",
     "iopub.status.busy": "2021-03-07T17:43:44.857467Z",
     "iopub.status.idle": "2021-03-07T17:43:45.394717Z",
     "shell.execute_reply": "2021-03-07T17:43:45.393751Z",
     "shell.execute_reply.started": "2021-03-07T17:43:44.857467Z"
    }
   },
   "outputs": [],
   "source": [
    "from sklearn.ensemble import AdaBoostClassifier"
   ]
  },
  {
   "cell_type": "code",
   "execution_count": 47,
   "metadata": {
    "ExecuteTime": {
     "end_time": "2021-12-11T04:57:05.414021Z",
     "start_time": "2021-12-11T04:57:04.785190Z"
    },
    "execution": {
     "iopub.execute_input": "2021-03-07T17:43:44.857467Z",
     "iopub.status.busy": "2021-03-07T17:43:44.857467Z",
     "iopub.status.idle": "2021-03-07T17:43:45.394717Z",
     "shell.execute_reply": "2021-03-07T17:43:45.393751Z",
     "shell.execute_reply.started": "2021-03-07T17:43:44.857467Z"
    }
   },
   "outputs": [
    {
     "data": {
      "text/plain": [
       "AdaBoostClassifier(n_estimators=100, random_state=1)"
      ]
     },
     "execution_count": 47,
     "metadata": {},
     "output_type": "execute_result"
    }
   ],
   "source": [
    "ADB_model = AdaBoostClassifier(n_estimators=100,random_state=1)\n",
    "ADB_model.fit(X_train,y_train)"
   ]
  },
  {
   "cell_type": "markdown",
   "metadata": {},
   "source": [
    "### Training Performance"
   ]
  },
  {
   "cell_type": "code",
   "execution_count": 48,
   "metadata": {
    "ExecuteTime": {
     "end_time": "2021-12-11T04:57:09.255565Z",
     "start_time": "2021-12-11T04:57:09.078007Z"
    },
    "execution": {
     "iopub.execute_input": "2021-03-07T17:43:46.943479Z",
     "iopub.status.busy": "2021-03-07T17:43:46.943479Z",
     "iopub.status.idle": "2021-03-07T17:43:47.131483Z",
     "shell.execute_reply": "2021-03-07T17:43:47.130495Z",
     "shell.execute_reply.started": "2021-03-07T17:43:46.943479Z"
    }
   },
   "outputs": [
    {
     "name": "stdout",
     "output_type": "stream",
     "text": [
      "0.8575471698113207 0.1016597510373444\n"
     ]
    }
   ],
   "source": [
    "## Performance Matrix on train data set\n",
    "ADB_train_predict = ADB_model.predict(X_train)\n",
    "ADB_train_score = ADB_model.score(X_train, y_train)\n",
    "ADB_train_recall_score = recall_score(y_train,ADB_train_predict)\n",
    "print(ADB_train_score,ADB_train_recall_score)"
   ]
  },
  {
   "cell_type": "code",
   "execution_count": null,
   "metadata": {
    "execution": {
     "iopub.execute_input": "2021-03-07T17:43:46.943479Z",
     "iopub.status.busy": "2021-03-07T17:43:46.943479Z",
     "iopub.status.idle": "2021-03-07T17:43:47.131483Z",
     "shell.execute_reply": "2021-03-07T17:43:47.130495Z",
     "shell.execute_reply.started": "2021-03-07T17:43:46.943479Z"
    }
   },
   "outputs": [],
   "source": [
    "# plot_confusion_matrix(ADB_model,X_train,y_train);\n",
    "# plt.grid(b=False);"
   ]
  },
  {
   "cell_type": "code",
   "execution_count": null,
   "metadata": {
    "execution": {
     "iopub.execute_input": "2021-03-07T17:43:46.943479Z",
     "iopub.status.busy": "2021-03-07T17:43:46.943479Z",
     "iopub.status.idle": "2021-03-07T17:43:47.131483Z",
     "shell.execute_reply": "2021-03-07T17:43:47.130495Z",
     "shell.execute_reply.started": "2021-03-07T17:43:46.943479Z"
    }
   },
   "outputs": [],
   "source": [
    "# print(classification_report(y_train, ADB_train_predict))"
   ]
  },
  {
   "cell_type": "markdown",
   "metadata": {},
   "source": [
    "### Test Performance"
   ]
  },
  {
   "cell_type": "code",
   "execution_count": 49,
   "metadata": {
    "ExecuteTime": {
     "end_time": "2021-12-11T04:57:56.218370Z",
     "start_time": "2021-12-11T04:57:56.115646Z"
    },
    "execution": {
     "iopub.execute_input": "2021-03-07T17:43:47.318959Z",
     "iopub.status.busy": "2021-03-07T17:43:47.317963Z",
     "iopub.status.idle": "2021-03-07T17:43:47.430662Z",
     "shell.execute_reply": "2021-03-07T17:43:47.429663Z",
     "shell.execute_reply.started": "2021-03-07T17:43:47.318959Z"
    }
   },
   "outputs": [
    {
     "name": "stdout",
     "output_type": "stream",
     "text": [
      "0.8490566037735849 0.08024691358024691\n"
     ]
    }
   ],
   "source": [
    "## Performance Matrix on test data set\n",
    "ADB_test_predict = ADB_model.predict(X_test)\n",
    "ADB_test_score = ADB_model.score(X_test, y_test)\n",
    "ADB_test_recall_score = recall_score(y_test,ADB_test_predict)\n",
    "print(ADB_test_score,ADB_test_recall_score)"
   ]
  },
  {
   "cell_type": "code",
   "execution_count": null,
   "metadata": {
    "execution": {
     "iopub.execute_input": "2021-03-07T17:43:47.318959Z",
     "iopub.status.busy": "2021-03-07T17:43:47.317963Z",
     "iopub.status.idle": "2021-03-07T17:43:47.430662Z",
     "shell.execute_reply": "2021-03-07T17:43:47.429663Z",
     "shell.execute_reply.started": "2021-03-07T17:43:47.318959Z"
    }
   },
   "outputs": [],
   "source": [
    "# plot_confusion_matrix(ADB_model,X_test,y_test)\n",
    "# plt.grid(b=False);"
   ]
  },
  {
   "cell_type": "code",
   "execution_count": null,
   "metadata": {
    "execution": {
     "iopub.execute_input": "2021-03-07T17:43:47.318959Z",
     "iopub.status.busy": "2021-03-07T17:43:47.317963Z",
     "iopub.status.idle": "2021-03-07T17:43:47.430662Z",
     "shell.execute_reply": "2021-03-07T17:43:47.429663Z",
     "shell.execute_reply.started": "2021-03-07T17:43:47.318959Z"
    }
   },
   "outputs": [],
   "source": [
    "# print(classification_report(y_test, ADB_test_predict))"
   ]
  },
  {
   "cell_type": "markdown",
   "metadata": {},
   "source": [
    "## Gradient Boosting"
   ]
  },
  {
   "cell_type": "code",
   "execution_count": 50,
   "metadata": {
    "ExecuteTime": {
     "end_time": "2021-12-11T04:58:17.078115Z",
     "start_time": "2021-12-11T04:58:17.070139Z"
    },
    "execution": {
     "iopub.execute_input": "2021-03-07T17:43:50.702689Z",
     "iopub.status.busy": "2021-03-07T17:43:50.701690Z",
     "iopub.status.idle": "2021-03-07T17:43:51.246886Z",
     "shell.execute_reply": "2021-03-07T17:43:51.245882Z",
     "shell.execute_reply.started": "2021-03-07T17:43:50.702689Z"
    }
   },
   "outputs": [],
   "source": [
    "from sklearn.ensemble import GradientBoostingClassifier\n",
    "gbcl = GradientBoostingClassifier(random_state=1)"
   ]
  },
  {
   "cell_type": "code",
   "execution_count": 51,
   "metadata": {
    "ExecuteTime": {
     "end_time": "2021-12-11T04:58:18.874060Z",
     "start_time": "2021-12-11T04:58:18.142542Z"
    },
    "execution": {
     "iopub.execute_input": "2021-03-07T17:43:50.702689Z",
     "iopub.status.busy": "2021-03-07T17:43:50.701690Z",
     "iopub.status.idle": "2021-03-07T17:43:51.246886Z",
     "shell.execute_reply": "2021-03-07T17:43:51.245882Z",
     "shell.execute_reply.started": "2021-03-07T17:43:50.702689Z"
    }
   },
   "outputs": [],
   "source": [
    "gbcl = gbcl.fit(X_train, y_train)"
   ]
  },
  {
   "cell_type": "markdown",
   "metadata": {},
   "source": [
    "### Training Performance"
   ]
  },
  {
   "cell_type": "code",
   "execution_count": 52,
   "metadata": {
    "ExecuteTime": {
     "end_time": "2021-12-11T04:58:40.772257Z",
     "start_time": "2021-12-11T04:58:40.739322Z"
    },
    "execution": {
     "iopub.execute_input": "2021-03-07T17:43:52.433729Z",
     "iopub.status.busy": "2021-03-07T17:43:52.432728Z",
     "iopub.status.idle": "2021-03-07T17:43:52.480599Z",
     "shell.execute_reply": "2021-03-07T17:43:52.479635Z",
     "shell.execute_reply.started": "2021-03-07T17:43:52.433729Z"
    }
   },
   "outputs": [
    {
     "name": "stdout",
     "output_type": "stream",
     "text": [
      "0.8783018867924528 0.2012448132780083\n"
     ]
    }
   ],
   "source": [
    "## Performance Matrix on train data set\n",
    "gbcl_train_predict = gbcl.predict(X_train)\n",
    "gbcl_train_score = gbcl.score(X_train, y_train)\n",
    "gbcl_train_recall_score = recall_score(y_train,gbcl_train_predict)\n",
    "print(gbcl_train_score,gbcl_train_recall_score)"
   ]
  },
  {
   "cell_type": "code",
   "execution_count": null,
   "metadata": {
    "execution": {
     "iopub.execute_input": "2021-03-07T17:43:52.433729Z",
     "iopub.status.busy": "2021-03-07T17:43:52.432728Z",
     "iopub.status.idle": "2021-03-07T17:43:52.480599Z",
     "shell.execute_reply": "2021-03-07T17:43:52.479635Z",
     "shell.execute_reply.started": "2021-03-07T17:43:52.433729Z"
    }
   },
   "outputs": [],
   "source": [
    "# plot_confusion_matrix(gbcl,X_train,y_train)\n",
    "# plt.grid(b=False);"
   ]
  },
  {
   "cell_type": "code",
   "execution_count": null,
   "metadata": {
    "execution": {
     "iopub.execute_input": "2021-03-07T17:43:52.433729Z",
     "iopub.status.busy": "2021-03-07T17:43:52.432728Z",
     "iopub.status.idle": "2021-03-07T17:43:52.480599Z",
     "shell.execute_reply": "2021-03-07T17:43:52.479635Z",
     "shell.execute_reply.started": "2021-03-07T17:43:52.433729Z"
    }
   },
   "outputs": [],
   "source": [
    "# print(classification_report(y_train, gbcl_train_predict))"
   ]
  },
  {
   "cell_type": "markdown",
   "metadata": {},
   "source": [
    "### Test Performance"
   ]
  },
  {
   "cell_type": "code",
   "execution_count": 53,
   "metadata": {
    "ExecuteTime": {
     "end_time": "2021-12-11T04:58:49.354335Z",
     "start_time": "2021-12-11T04:58:49.332395Z"
    },
    "execution": {
     "iopub.execute_input": "2021-03-07T17:43:54.666062Z",
     "iopub.status.busy": "2021-03-07T17:43:54.666062Z",
     "iopub.status.idle": "2021-03-07T17:43:54.700966Z",
     "shell.execute_reply": "2021-03-07T17:43:54.699968Z",
     "shell.execute_reply.started": "2021-03-07T17:43:54.666062Z"
    }
   },
   "outputs": [
    {
     "name": "stdout",
     "output_type": "stream",
     "text": [
      "0.8471698113207548 0.08024691358024691\n"
     ]
    }
   ],
   "source": [
    "## Performance Matrix on test data set\n",
    "gbcl_test_predict = gbcl.predict(X_test)\n",
    "gbcl_test_score = gbcl.score(X_test, y_test)\n",
    "gbcl_test_recall_score = recall_score(y_test, gbcl_test_predict)\n",
    "print(gbcl_test_score,gbcl_test_recall_score)"
   ]
  },
  {
   "cell_type": "code",
   "execution_count": null,
   "metadata": {
    "execution": {
     "iopub.execute_input": "2021-03-07T17:43:54.666062Z",
     "iopub.status.busy": "2021-03-07T17:43:54.666062Z",
     "iopub.status.idle": "2021-03-07T17:43:54.700966Z",
     "shell.execute_reply": "2021-03-07T17:43:54.699968Z",
     "shell.execute_reply.started": "2021-03-07T17:43:54.666062Z"
    }
   },
   "outputs": [],
   "source": [
    "# plot_confusion_matrix(gbcl,X_test,y_test)\n",
    "# plt.grid(b=False);"
   ]
  },
  {
   "cell_type": "code",
   "execution_count": null,
   "metadata": {
    "execution": {
     "iopub.execute_input": "2021-03-07T17:43:54.666062Z",
     "iopub.status.busy": "2021-03-07T17:43:54.666062Z",
     "iopub.status.idle": "2021-03-07T17:43:54.700966Z",
     "shell.execute_reply": "2021-03-07T17:43:54.699968Z",
     "shell.execute_reply.started": "2021-03-07T17:43:54.666062Z"
    }
   },
   "outputs": [],
   "source": [
    "# print(classification_report(y_test, gbcl_test_predict))"
   ]
  },
  {
   "cell_type": "markdown",
   "metadata": {},
   "source": [
    "## KNN Model"
   ]
  },
  {
   "cell_type": "code",
   "execution_count": 54,
   "metadata": {
    "ExecuteTime": {
     "end_time": "2021-12-11T04:58:58.804760Z",
     "start_time": "2021-12-11T04:58:58.771849Z"
    },
    "execution": {
     "iopub.execute_input": "2021-03-07T17:44:06.108220Z",
     "iopub.status.busy": "2021-03-07T17:44:06.107224Z",
     "iopub.status.idle": "2021-03-07T17:44:06.130160Z",
     "shell.execute_reply": "2021-03-07T17:44:06.129164Z",
     "shell.execute_reply.started": "2021-03-07T17:44:06.107224Z"
    }
   },
   "outputs": [
    {
     "data": {
      "text/plain": [
       "KNeighborsClassifier()"
      ]
     },
     "execution_count": 54,
     "metadata": {},
     "output_type": "execute_result"
    }
   ],
   "source": [
    "from sklearn.neighbors import KNeighborsClassifier\n",
    "\n",
    "KNN_model=KNeighborsClassifier()\n",
    "KNN_model.fit(X_train,y_train)"
   ]
  },
  {
   "cell_type": "markdown",
   "metadata": {},
   "source": [
    "### Training Performance"
   ]
  },
  {
   "cell_type": "code",
   "execution_count": 55,
   "metadata": {
    "ExecuteTime": {
     "end_time": "2021-12-11T04:59:03.978864Z",
     "start_time": "2021-12-11T04:59:03.239794Z"
    },
    "execution": {
     "iopub.execute_input": "2021-03-07T17:45:00.349920Z",
     "iopub.status.busy": "2021-03-07T17:45:00.348923Z",
     "iopub.status.idle": "2021-03-07T17:45:01.117949Z",
     "shell.execute_reply": "2021-03-07T17:45:01.116952Z",
     "shell.execute_reply.started": "2021-03-07T17:45:00.349920Z"
    }
   },
   "outputs": [
    {
     "name": "stdout",
     "output_type": "stream",
     "text": [
      "0.8632075471698113 0.1950207468879668\n"
     ]
    }
   ],
   "source": [
    "## Performance Matrix on train data set\n",
    "KNN_train_predict = KNN_model.predict(X_train)\n",
    "KNN_train_score = KNN_model.score(X_train, y_train)\n",
    "KNN_train_recall_score = recall_score(y_train,KNN_train_predict)\n",
    "print(KNN_train_score,KNN_train_recall_score)"
   ]
  },
  {
   "cell_type": "code",
   "execution_count": null,
   "metadata": {
    "execution": {
     "iopub.execute_input": "2021-03-07T17:45:00.349920Z",
     "iopub.status.busy": "2021-03-07T17:45:00.348923Z",
     "iopub.status.idle": "2021-03-07T17:45:01.117949Z",
     "shell.execute_reply": "2021-03-07T17:45:01.116952Z",
     "shell.execute_reply.started": "2021-03-07T17:45:00.349920Z"
    }
   },
   "outputs": [],
   "source": [
    "# plot_confusion_matrix(KNN_model,X_train,y_train)\n",
    "# plt.grid(b=False);"
   ]
  },
  {
   "cell_type": "code",
   "execution_count": null,
   "metadata": {
    "execution": {
     "iopub.execute_input": "2021-03-07T17:45:00.349920Z",
     "iopub.status.busy": "2021-03-07T17:45:00.348923Z",
     "iopub.status.idle": "2021-03-07T17:45:01.117949Z",
     "shell.execute_reply": "2021-03-07T17:45:01.116952Z",
     "shell.execute_reply.started": "2021-03-07T17:45:00.349920Z"
    }
   },
   "outputs": [],
   "source": [
    "# print(classification_report(y_train, KNN_train_predict))"
   ]
  },
  {
   "cell_type": "markdown",
   "metadata": {},
   "source": [
    "### Test Performance"
   ]
  },
  {
   "cell_type": "code",
   "execution_count": 56,
   "metadata": {
    "ExecuteTime": {
     "end_time": "2021-12-11T04:59:13.545697Z",
     "start_time": "2021-12-11T04:59:13.229546Z"
    },
    "execution": {
     "iopub.execute_input": "2021-03-07T17:45:04.485955Z",
     "iopub.status.busy": "2021-03-07T17:45:04.485955Z",
     "iopub.status.idle": "2021-03-07T17:45:04.780675Z",
     "shell.execute_reply": "2021-03-07T17:45:04.779676Z",
     "shell.execute_reply.started": "2021-03-07T17:45:04.485955Z"
    }
   },
   "outputs": [
    {
     "name": "stdout",
     "output_type": "stream",
     "text": [
      "0.8320754716981132 0.06172839506172839\n"
     ]
    }
   ],
   "source": [
    "## Performance Matrix on test data set\n",
    "KNN_test_predict = KNN_model.predict(X_test)\n",
    "KNN_test_score = KNN_model.score(X_test, y_test)\n",
    "KNN_test_recall_score = recall_score(y_test,KNN_test_predict)\n",
    "print(KNN_test_score,KNN_test_recall_score)"
   ]
  },
  {
   "cell_type": "code",
   "execution_count": null,
   "metadata": {
    "execution": {
     "iopub.execute_input": "2021-03-07T17:45:04.485955Z",
     "iopub.status.busy": "2021-03-07T17:45:04.485955Z",
     "iopub.status.idle": "2021-03-07T17:45:04.780675Z",
     "shell.execute_reply": "2021-03-07T17:45:04.779676Z",
     "shell.execute_reply.started": "2021-03-07T17:45:04.485955Z"
    }
   },
   "outputs": [],
   "source": [
    "# plot_confusion_matrix(KNN_model,X_test, y_test)\n",
    "# plt.grid(b=False);"
   ]
  },
  {
   "cell_type": "code",
   "execution_count": null,
   "metadata": {
    "execution": {
     "iopub.execute_input": "2021-03-07T17:45:04.485955Z",
     "iopub.status.busy": "2021-03-07T17:45:04.485955Z",
     "iopub.status.idle": "2021-03-07T17:45:04.780675Z",
     "shell.execute_reply": "2021-03-07T17:45:04.779676Z",
     "shell.execute_reply.started": "2021-03-07T17:45:04.485955Z"
    }
   },
   "outputs": [],
   "source": [
    "# print(classification_report(y_test, KNN_test_predict))"
   ]
  },
  {
   "cell_type": "markdown",
   "metadata": {},
   "source": [
    "## Decision Tree"
   ]
  },
  {
   "cell_type": "code",
   "execution_count": 57,
   "metadata": {
    "ExecuteTime": {
     "end_time": "2021-12-11T04:59:27.919194Z",
     "start_time": "2021-12-11T04:59:27.884287Z"
    },
    "execution": {
     "iopub.execute_input": "2021-03-07T17:45:09.164644Z",
     "iopub.status.busy": "2021-03-07T17:45:09.164644Z",
     "iopub.status.idle": "2021-03-07T17:45:09.215509Z",
     "shell.execute_reply": "2021-03-07T17:45:09.214510Z",
     "shell.execute_reply.started": "2021-03-07T17:45:09.164644Z"
    }
   },
   "outputs": [
    {
     "data": {
      "text/plain": [
       "DecisionTreeClassifier()"
      ]
     },
     "execution_count": 57,
     "metadata": {},
     "output_type": "execute_result"
    }
   ],
   "source": [
    "from sklearn import tree\n",
    "\n",
    "DT_model= tree.DecisionTreeClassifier()\n",
    "DT_model.fit(X_train, y_train)"
   ]
  },
  {
   "cell_type": "markdown",
   "metadata": {},
   "source": [
    "### Training Data"
   ]
  },
  {
   "cell_type": "code",
   "execution_count": 58,
   "metadata": {
    "ExecuteTime": {
     "end_time": "2021-12-11T04:59:31.481588Z",
     "start_time": "2021-12-11T04:59:31.454661Z"
    },
    "execution": {
     "iopub.execute_input": "2021-03-07T17:45:12.005406Z",
     "iopub.status.busy": "2021-03-07T17:45:12.004411Z",
     "iopub.status.idle": "2021-03-07T17:45:12.053278Z",
     "shell.execute_reply": "2021-03-07T17:45:12.052280Z",
     "shell.execute_reply.started": "2021-03-07T17:45:12.004411Z"
    }
   },
   "outputs": [
    {
     "name": "stdout",
     "output_type": "stream",
     "text": [
      "1.0 1.0\n"
     ]
    }
   ],
   "source": [
    "## Performance Matrix on train data set\n",
    "DT_train_predict = DT_model.predict(X_train)\n",
    "DT_train_score = DT_model.score(X_train, y_train)\n",
    "DT_train_recall_score = recall_score(y_train,DT_train_predict)\n",
    "print(DT_train_score,DT_train_recall_score)"
   ]
  },
  {
   "cell_type": "code",
   "execution_count": null,
   "metadata": {
    "execution": {
     "iopub.execute_input": "2021-03-07T17:45:12.005406Z",
     "iopub.status.busy": "2021-03-07T17:45:12.004411Z",
     "iopub.status.idle": "2021-03-07T17:45:12.053278Z",
     "shell.execute_reply": "2021-03-07T17:45:12.052280Z",
     "shell.execute_reply.started": "2021-03-07T17:45:12.004411Z"
    }
   },
   "outputs": [],
   "source": [
    "# plot_confusion_matrix(DT_model,X_train,y_train)\n",
    "# plt.grid(b=False);"
   ]
  },
  {
   "cell_type": "code",
   "execution_count": null,
   "metadata": {
    "execution": {
     "iopub.execute_input": "2021-03-07T17:45:12.005406Z",
     "iopub.status.busy": "2021-03-07T17:45:12.004411Z",
     "iopub.status.idle": "2021-03-07T17:45:12.053278Z",
     "shell.execute_reply": "2021-03-07T17:45:12.052280Z",
     "shell.execute_reply.started": "2021-03-07T17:45:12.004411Z"
    }
   },
   "outputs": [],
   "source": [
    "# print(classification_report(y_train, DT_train_predict))"
   ]
  },
  {
   "cell_type": "markdown",
   "metadata": {},
   "source": [
    "### Test Performance"
   ]
  },
  {
   "cell_type": "code",
   "execution_count": 59,
   "metadata": {
    "ExecuteTime": {
     "end_time": "2021-12-11T04:59:55.037656Z",
     "start_time": "2021-12-11T04:59:55.019704Z"
    },
    "execution": {
     "iopub.execute_input": "2021-03-07T17:45:14.321741Z",
     "iopub.status.busy": "2021-03-07T17:45:14.320744Z",
     "iopub.status.idle": "2021-03-07T17:45:14.349665Z",
     "shell.execute_reply": "2021-03-07T17:45:14.348672Z",
     "shell.execute_reply.started": "2021-03-07T17:45:14.321741Z"
    }
   },
   "outputs": [
    {
     "name": "stdout",
     "output_type": "stream",
     "text": [
      "0.7754716981132076 0.2839506172839506\n"
     ]
    }
   ],
   "source": [
    "## Performance Matrix on test data set\n",
    "DT_test_predict = DT_model.predict(X_test)\n",
    "DT_test_score = DT_model.score(X_test, y_test)\n",
    "DT_test_recall_score = recall_score(y_test, DT_test_predict)\n",
    "print(DT_test_score,DT_test_recall_score)"
   ]
  },
  {
   "cell_type": "code",
   "execution_count": null,
   "metadata": {
    "execution": {
     "iopub.execute_input": "2021-03-07T17:45:14.321741Z",
     "iopub.status.busy": "2021-03-07T17:45:14.320744Z",
     "iopub.status.idle": "2021-03-07T17:45:14.349665Z",
     "shell.execute_reply": "2021-03-07T17:45:14.348672Z",
     "shell.execute_reply.started": "2021-03-07T17:45:14.321741Z"
    }
   },
   "outputs": [],
   "source": [
    "# plot_confusion_matrix(DT_model, X_test, y_test)\n",
    "# plt.grid(b=False);"
   ]
  },
  {
   "cell_type": "code",
   "execution_count": null,
   "metadata": {
    "execution": {
     "iopub.execute_input": "2021-03-07T17:45:14.321741Z",
     "iopub.status.busy": "2021-03-07T17:45:14.320744Z",
     "iopub.status.idle": "2021-03-07T17:45:14.349665Z",
     "shell.execute_reply": "2021-03-07T17:45:14.348672Z",
     "shell.execute_reply.started": "2021-03-07T17:45:14.321741Z"
    }
   },
   "outputs": [],
   "source": [
    "# print(classification_report(y_test, DT_test_predict))"
   ]
  },
  {
   "cell_type": "markdown",
   "metadata": {},
   "source": [
    "## Random Forest"
   ]
  },
  {
   "cell_type": "code",
   "execution_count": 60,
   "metadata": {
    "ExecuteTime": {
     "end_time": "2021-12-11T05:00:12.228535Z",
     "start_time": "2021-12-11T05:00:11.032193Z"
    },
    "execution": {
     "iopub.execute_input": "2021-03-07T17:45:17.257085Z",
     "iopub.status.busy": "2021-03-07T17:45:17.257085Z",
     "iopub.status.idle": "2021-03-07T17:45:17.813604Z",
     "shell.execute_reply": "2021-03-07T17:45:17.812644Z",
     "shell.execute_reply.started": "2021-03-07T17:45:17.257085Z"
    }
   },
   "outputs": [
    {
     "data": {
      "text/plain": [
       "RandomForestClassifier(random_state=1)"
      ]
     },
     "execution_count": 60,
     "metadata": {},
     "output_type": "execute_result"
    }
   ],
   "source": [
    "\n",
    "from sklearn.ensemble import RandomForestClassifier\n",
    "\n",
    "RF_model=RandomForestClassifier(n_estimators=100,random_state=1)\n",
    "RF_model.fit(X_train, y_train)"
   ]
  },
  {
   "cell_type": "markdown",
   "metadata": {},
   "source": [
    "### Training Performance"
   ]
  },
  {
   "cell_type": "code",
   "execution_count": 61,
   "metadata": {
    "ExecuteTime": {
     "end_time": "2021-12-11T05:00:16.445443Z",
     "start_time": "2021-12-11T05:00:16.178160Z"
    },
    "execution": {
     "iopub.execute_input": "2021-03-07T17:45:22.146043Z",
     "iopub.status.busy": "2021-03-07T17:45:22.146043Z",
     "iopub.status.idle": "2021-03-07T17:45:22.333541Z",
     "shell.execute_reply": "2021-03-07T17:45:22.332543Z",
     "shell.execute_reply.started": "2021-03-07T17:45:22.146043Z"
    }
   },
   "outputs": [
    {
     "name": "stdout",
     "output_type": "stream",
     "text": [
      "1.0 1.0\n"
     ]
    }
   ],
   "source": [
    "## Performance Matrix on train data set\n",
    "RF_train_predict = RF_model.predict(X_train)\n",
    "RF_train_score =RF_model.score(X_train, y_train)\n",
    "RF_train_recall_score = recall_score(y_train,RF_train_predict)\n",
    "print(RF_train_score,RF_train_recall_score)"
   ]
  },
  {
   "cell_type": "code",
   "execution_count": null,
   "metadata": {
    "execution": {
     "iopub.execute_input": "2021-03-07T17:45:22.146043Z",
     "iopub.status.busy": "2021-03-07T17:45:22.146043Z",
     "iopub.status.idle": "2021-03-07T17:45:22.333541Z",
     "shell.execute_reply": "2021-03-07T17:45:22.332543Z",
     "shell.execute_reply.started": "2021-03-07T17:45:22.146043Z"
    }
   },
   "outputs": [],
   "source": [
    "# plot_confusion_matrix(RF_model, X_train,y_train)\n",
    "# plt.grid(b=False);"
   ]
  },
  {
   "cell_type": "code",
   "execution_count": null,
   "metadata": {
    "execution": {
     "iopub.execute_input": "2021-03-07T17:45:22.146043Z",
     "iopub.status.busy": "2021-03-07T17:45:22.146043Z",
     "iopub.status.idle": "2021-03-07T17:45:22.333541Z",
     "shell.execute_reply": "2021-03-07T17:45:22.332543Z",
     "shell.execute_reply.started": "2021-03-07T17:45:22.146043Z"
    }
   },
   "outputs": [],
   "source": [
    "# print(classification_report(y_train, RF_train_predict))"
   ]
  },
  {
   "cell_type": "markdown",
   "metadata": {},
   "source": [
    "### Test Performace"
   ]
  },
  {
   "cell_type": "code",
   "execution_count": 62,
   "metadata": {
    "ExecuteTime": {
     "end_time": "2021-12-11T05:00:28.944337Z",
     "start_time": "2021-12-11T05:00:28.845601Z"
    },
    "execution": {
     "iopub.execute_input": "2021-03-07T17:45:22.837624Z",
     "iopub.status.busy": "2021-03-07T17:45:22.837624Z",
     "iopub.status.idle": "2021-03-07T17:45:22.941344Z",
     "shell.execute_reply": "2021-03-07T17:45:22.940346Z",
     "shell.execute_reply.started": "2021-03-07T17:45:22.837624Z"
    }
   },
   "outputs": [
    {
     "name": "stdout",
     "output_type": "stream",
     "text": [
      "0.85 0.05555555555555555\n"
     ]
    }
   ],
   "source": [
    "## Performance Matrix on test data set\n",
    "RF_test_predict = RF_model.predict(X_test)\n",
    "RF_test_score = RF_model.score(X_test, y_test)\n",
    "RF_test_recall_score = recall_score(y_test, RF_test_predict)\n",
    "print(RF_test_score,RF_test_recall_score)"
   ]
  },
  {
   "cell_type": "code",
   "execution_count": null,
   "metadata": {
    "execution": {
     "iopub.execute_input": "2021-03-07T17:45:22.837624Z",
     "iopub.status.busy": "2021-03-07T17:45:22.837624Z",
     "iopub.status.idle": "2021-03-07T17:45:22.941344Z",
     "shell.execute_reply": "2021-03-07T17:45:22.940346Z",
     "shell.execute_reply.started": "2021-03-07T17:45:22.837624Z"
    }
   },
   "outputs": [],
   "source": [
    "# plot_confusion_matrix(RF_model,X_test,y_test)\n",
    "# plt.grid(b=False);"
   ]
  },
  {
   "cell_type": "code",
   "execution_count": null,
   "metadata": {
    "execution": {
     "iopub.execute_input": "2021-03-07T17:45:22.837624Z",
     "iopub.status.busy": "2021-03-07T17:45:22.837624Z",
     "iopub.status.idle": "2021-03-07T17:45:22.941344Z",
     "shell.execute_reply": "2021-03-07T17:45:22.940346Z",
     "shell.execute_reply.started": "2021-03-07T17:45:22.837624Z"
    }
   },
   "outputs": [],
   "source": [
    "# print(classification_report(y_test, RF_test_predict))"
   ]
  },
  {
   "cell_type": "markdown",
   "metadata": {},
   "source": [
    "## Bagging"
   ]
  },
  {
   "cell_type": "code",
   "execution_count": 63,
   "metadata": {
    "ExecuteTime": {
     "end_time": "2021-12-11T05:02:39.599967Z",
     "start_time": "2021-12-11T05:02:37.430232Z"
    },
    "execution": {
     "iopub.execute_input": "2021-03-07T17:45:27.186347Z",
     "iopub.status.busy": "2021-03-07T17:45:27.186347Z",
     "iopub.status.idle": "2021-03-07T17:45:28.701294Z",
     "shell.execute_reply": "2021-03-07T17:45:28.700297Z",
     "shell.execute_reply.started": "2021-03-07T17:45:27.186347Z"
    }
   },
   "outputs": [
    {
     "data": {
      "text/plain": [
       "BaggingClassifier(base_estimator=DecisionTreeClassifier(), n_estimators=100,\n",
       "                  random_state=1)"
      ]
     },
     "execution_count": 63,
     "metadata": {},
     "output_type": "execute_result"
    }
   ],
   "source": [
    "from sklearn.ensemble import BaggingClassifier\n",
    "from sklearn.tree import DecisionTreeClassifier\n",
    "cart = DecisionTreeClassifier()\n",
    "Bagging_model=BaggingClassifier(base_estimator=cart,\n",
    "                                n_estimators=100,\n",
    "                                random_state=1)\n",
    "Bagging_model.fit(X_train, y_train)"
   ]
  },
  {
   "cell_type": "markdown",
   "metadata": {},
   "source": [
    "### Training Performance"
   ]
  },
  {
   "cell_type": "code",
   "execution_count": 64,
   "metadata": {
    "ExecuteTime": {
     "end_time": "2021-12-11T05:02:45.527952Z",
     "start_time": "2021-12-11T05:02:45.282608Z"
    },
    "execution": {
     "iopub.execute_input": "2021-03-07T17:45:30.275324Z",
     "iopub.status.busy": "2021-03-07T17:45:30.274327Z",
     "iopub.status.idle": "2021-03-07T17:45:30.493741Z",
     "shell.execute_reply": "2021-03-07T17:45:30.492744Z",
     "shell.execute_reply.started": "2021-03-07T17:45:30.275324Z"
    }
   },
   "outputs": [
    {
     "name": "stdout",
     "output_type": "stream",
     "text": [
      "1.0 1.0\n"
     ]
    }
   ],
   "source": [
    "## Performance Matrix on train data set\n",
    "Bagging_train_predict = Bagging_model.predict(X_train)\n",
    "Bagging_train_score =Bagging_model.score(X_train, y_train)\n",
    "Bagging_train_recall_score = recall_score(y_train,Bagging_train_predict)\n",
    "print(Bagging_train_score, Bagging_train_recall_score)"
   ]
  },
  {
   "cell_type": "code",
   "execution_count": null,
   "metadata": {
    "execution": {
     "iopub.execute_input": "2021-03-07T17:45:30.275324Z",
     "iopub.status.busy": "2021-03-07T17:45:30.274327Z",
     "iopub.status.idle": "2021-03-07T17:45:30.493741Z",
     "shell.execute_reply": "2021-03-07T17:45:30.492744Z",
     "shell.execute_reply.started": "2021-03-07T17:45:30.275324Z"
    }
   },
   "outputs": [],
   "source": [
    "# plot_confusion_matrix(Bagging_model,X_train, y_train)\n",
    "# plt.grid(b=False);"
   ]
  },
  {
   "cell_type": "code",
   "execution_count": null,
   "metadata": {
    "execution": {
     "iopub.execute_input": "2021-03-07T17:45:30.275324Z",
     "iopub.status.busy": "2021-03-07T17:45:30.274327Z",
     "iopub.status.idle": "2021-03-07T17:45:30.493741Z",
     "shell.execute_reply": "2021-03-07T17:45:30.492744Z",
     "shell.execute_reply.started": "2021-03-07T17:45:30.275324Z"
    },
    "scrolled": true
   },
   "outputs": [],
   "source": [
    "# print(classification_report(y_train, Bagging_train_predict))"
   ]
  },
  {
   "cell_type": "markdown",
   "metadata": {},
   "source": [
    "### Test Performance"
   ]
  },
  {
   "cell_type": "code",
   "execution_count": 65,
   "metadata": {
    "ExecuteTime": {
     "end_time": "2021-12-11T05:02:53.583056Z",
     "start_time": "2021-12-11T05:02:53.483325Z"
    },
    "execution": {
     "iopub.execute_input": "2021-03-07T17:45:32.407951Z",
     "iopub.status.busy": "2021-03-07T17:45:32.407951Z",
     "iopub.status.idle": "2021-03-07T17:45:32.510676Z",
     "shell.execute_reply": "2021-03-07T17:45:32.508683Z",
     "shell.execute_reply.started": "2021-03-07T17:45:32.407951Z"
    }
   },
   "outputs": [
    {
     "name": "stdout",
     "output_type": "stream",
     "text": [
      "0.8367924528301887 0.08024691358024691\n"
     ]
    }
   ],
   "source": [
    "## Performance Matrix on test data set\n",
    "Bagging_test_predict = Bagging_model.predict(X_test)\n",
    "Bagging_test_score = Bagging_model.score(X_test, y_test)\n",
    "Bagging_test_recall_score = recall_score(y_test, Bagging_test_predict)\n",
    "print(Bagging_test_score, Bagging_test_recall_score)"
   ]
  },
  {
   "cell_type": "code",
   "execution_count": null,
   "metadata": {
    "execution": {
     "iopub.execute_input": "2021-03-07T17:45:32.407951Z",
     "iopub.status.busy": "2021-03-07T17:45:32.407951Z",
     "iopub.status.idle": "2021-03-07T17:45:32.510676Z",
     "shell.execute_reply": "2021-03-07T17:45:32.508683Z",
     "shell.execute_reply.started": "2021-03-07T17:45:32.407951Z"
    }
   },
   "outputs": [],
   "source": [
    "# plot_confusion_matrix(Bagging_model,X_test,y_test)\n",
    "# plt.grid(b=False);"
   ]
  },
  {
   "cell_type": "code",
   "execution_count": null,
   "metadata": {
    "execution": {
     "iopub.execute_input": "2021-03-07T17:45:32.407951Z",
     "iopub.status.busy": "2021-03-07T17:45:32.407951Z",
     "iopub.status.idle": "2021-03-07T17:45:32.510676Z",
     "shell.execute_reply": "2021-03-07T17:45:32.508683Z",
     "shell.execute_reply.started": "2021-03-07T17:45:32.407951Z"
    }
   },
   "outputs": [],
   "source": [
    "# print(classification_report(y_test, Bagging_test_predict))"
   ]
  },
  {
   "cell_type": "markdown",
   "metadata": {
    "colab_type": "text",
    "id": "OVZSz2HkGTZz"
   },
   "source": [
    "## Comparison of Different Models"
   ]
  },
  {
   "cell_type": "markdown",
   "metadata": {},
   "source": [
    "Interest Class or Postive class is 1 i.e. attack = 1\n",
    "\n",
    "Let's look at the performance of all the models on the Train & Test Data set\n",
    "\n",
    "Recall refers to the percentage of Actual positive results that are correctly classified as positive by the algorithm and hence we will compare Recall of class \"1\" for all models."
   ]
  },
  {
   "cell_type": "code",
   "execution_count": 66,
   "metadata": {
    "ExecuteTime": {
     "end_time": "2021-12-11T05:04:26.301585Z",
     "start_time": "2021-12-11T05:04:26.271667Z"
    }
   },
   "outputs": [
    {
     "data": {
      "text/html": [
       "<div>\n",
       "<style scoped>\n",
       "    .dataframe tbody tr th:only-of-type {\n",
       "        vertical-align: middle;\n",
       "    }\n",
       "\n",
       "    .dataframe tbody tr th {\n",
       "        vertical-align: top;\n",
       "    }\n",
       "\n",
       "    .dataframe thead th {\n",
       "        text-align: right;\n",
       "    }\n",
       "</style>\n",
       "<table border=\"1\" class=\"dataframe\">\n",
       "  <thead>\n",
       "    <tr style=\"text-align: right;\">\n",
       "      <th></th>\n",
       "      <th>train_recall</th>\n",
       "      <th>test_recall</th>\n",
       "    </tr>\n",
       "  </thead>\n",
       "  <tbody>\n",
       "    <tr>\n",
       "      <th>Naive-Bayes</th>\n",
       "      <td>0.147303</td>\n",
       "      <td>0.160494</td>\n",
       "    </tr>\n",
       "    <tr>\n",
       "      <th>LDA</th>\n",
       "      <td>0.068465</td>\n",
       "      <td>0.074074</td>\n",
       "    </tr>\n",
       "    <tr>\n",
       "      <th>ADABoost</th>\n",
       "      <td>0.101660</td>\n",
       "      <td>0.080247</td>\n",
       "    </tr>\n",
       "    <tr>\n",
       "      <th>GradientBoost</th>\n",
       "      <td>0.201245</td>\n",
       "      <td>0.080247</td>\n",
       "    </tr>\n",
       "    <tr>\n",
       "      <th>KNN</th>\n",
       "      <td>0.195021</td>\n",
       "      <td>0.061728</td>\n",
       "    </tr>\n",
       "    <tr>\n",
       "      <th>DecisionTree</th>\n",
       "      <td>1.000000</td>\n",
       "      <td>0.283951</td>\n",
       "    </tr>\n",
       "    <tr>\n",
       "      <th>RF</th>\n",
       "      <td>1.000000</td>\n",
       "      <td>0.055556</td>\n",
       "    </tr>\n",
       "    <tr>\n",
       "      <th>Bagging</th>\n",
       "      <td>1.000000</td>\n",
       "      <td>0.080247</td>\n",
       "    </tr>\n",
       "  </tbody>\n",
       "</table>\n",
       "</div>"
      ],
      "text/plain": [
       "               train_recall  test_recall\n",
       "Naive-Bayes        0.147303     0.160494\n",
       "LDA                0.068465     0.074074\n",
       "ADABoost           0.101660     0.080247\n",
       "GradientBoost      0.201245     0.080247\n",
       "KNN                0.195021     0.061728\n",
       "DecisionTree       1.000000     0.283951\n",
       "RF                 1.000000     0.055556\n",
       "Bagging            1.000000     0.080247"
      ]
     },
     "execution_count": 66,
     "metadata": {},
     "output_type": "execute_result"
    }
   ],
   "source": [
    "model_names = ['Naive-Bayes','LDA','ADABoost',\n",
    "              'GradientBoost','KNN','DecisionTree',\n",
    "              'RF','Bagging']\n",
    "\n",
    "train_recalls = [NB_train_recall_score,LDA_train_recall_score,\n",
    "                ADB_train_recall_score,gbcl_train_recall_score,\n",
    "                KNN_train_recall_score,DT_train_recall_score,\n",
    "                RF_train_recall_score,\n",
    "                 Bagging_train_recall_score]\n",
    "test_recalls = [NB_test_recall_score,LDA_test_recall_score,\n",
    "               ADB_test_recall_score,gbcl_test_recall_score,\n",
    "               KNN_test_recall_score,DT_test_recall_score,\n",
    "               RF_test_recall_score,Bagging_test_recall_score]\n",
    "\n",
    "recall_df = pd.DataFrame({'train_recall':train_recalls,\n",
    "                         'test_recall':test_recalls},\n",
    "                        index=model_names)\n",
    "recall_df\n"
   ]
  },
  {
   "cell_type": "markdown",
   "metadata": {},
   "source": [
    "So as per the train data, \n",
    "Worst performing model is - Linear Discriminant Analysis\n",
    "\n",
    "Best Performing models are - Decision Tree ,  Random Forest and Bagging\n",
    "\n",
    "However are these best performing models overfitted??\n",
    "\n",
    "Let's look at the performance on the test data set"
   ]
  },
  {
   "cell_type": "markdown",
   "metadata": {},
   "source": [
    "**Recall on the Test Data Set**\n",
    "\n",
    "Model which have not performed well on the train data set , also have not performed well on the test data set\n",
    "However Decision Tree ,Random Forest and Bagging which had a 100% score on the train data set have shown a poor result on the test data set .. Hence a clear case of overfitting.\n",
    "\n"
   ]
  },
  {
   "cell_type": "markdown",
   "metadata": {
    "colab_type": "text",
    "id": "dKkwNI-G-Qtw"
   },
   "source": [
    "## Conclusion"
   ]
  },
  {
   "cell_type": "markdown",
   "metadata": {
    "ExecuteTime": {
     "end_time": "2020-04-20T05:11:09.542515Z",
     "start_time": "2020-04-20T05:11:09.524564Z"
    }
   },
   "source": [
    "**So we will select models which have performed approximately similar on the train and test data set and apply SMOTE on the same to check if the performance improves or not eg. Naive Bayes and KNN**"
   ]
  },
  {
   "cell_type": "markdown",
   "metadata": {},
   "source": [
    "## SMOTE "
   ]
  },
  {
   "cell_type": "code",
   "execution_count": null,
   "metadata": {},
   "outputs": [],
   "source": [
    "# !pip install imblearn (from notebook) or \n",
    "# pip install imblearn (from anaconda prompt)\n",
    "# Above is required to be done once only for installing the module"
   ]
  },
  {
   "cell_type": "code",
   "execution_count": 67,
   "metadata": {
    "ExecuteTime": {
     "end_time": "2021-12-11T05:11:30.410294Z",
     "start_time": "2021-12-11T05:11:29.888207Z"
    },
    "execution": {
     "iopub.execute_input": "2021-03-07T17:47:27.276255Z",
     "iopub.status.busy": "2021-03-07T17:47:27.276255Z",
     "iopub.status.idle": "2021-03-07T17:47:27.470289Z",
     "shell.execute_reply": "2021-03-07T17:47:27.469333Z",
     "shell.execute_reply.started": "2021-03-07T17:47:27.276255Z"
    }
   },
   "outputs": [],
   "source": [
    "from imblearn.over_sampling import SMOTE"
   ]
  },
  {
   "cell_type": "code",
   "execution_count": null,
   "metadata": {},
   "outputs": [],
   "source": [
    "# from imblearn.under_sampling import RandomUnderSampler"
   ]
  },
  {
   "cell_type": "code",
   "execution_count": null,
   "metadata": {},
   "outputs": [],
   "source": [
    "# RandomUnderSampler()"
   ]
  },
  {
   "cell_type": "markdown",
   "metadata": {},
   "source": [
    "**SMOTE is only applied on the train data set**"
   ]
  },
  {
   "cell_type": "code",
   "execution_count": 68,
   "metadata": {
    "ExecuteTime": {
     "end_time": "2021-12-11T05:11:48.510040Z",
     "start_time": "2021-12-11T05:11:48.496078Z"
    },
    "execution": {
     "iopub.execute_input": "2021-03-07T17:48:06.360463Z",
     "iopub.status.busy": "2021-03-07T17:48:06.359467Z",
     "iopub.status.idle": "2021-03-07T17:48:06.379413Z",
     "shell.execute_reply": "2021-03-07T17:48:06.378414Z",
     "shell.execute_reply.started": "2021-03-07T17:48:06.360463Z"
    }
   },
   "outputs": [],
   "source": [
    "sm = SMOTE(random_state=2)"
   ]
  },
  {
   "cell_type": "code",
   "execution_count": 69,
   "metadata": {
    "ExecuteTime": {
     "end_time": "2021-12-11T05:13:09.034868Z",
     "start_time": "2021-12-11T05:13:09.001962Z"
    },
    "execution": {
     "iopub.execute_input": "2021-03-07T17:50:15.001005Z",
     "iopub.status.busy": "2021-03-07T17:50:15.001005Z",
     "iopub.status.idle": "2021-03-07T17:50:15.039900Z",
     "shell.execute_reply": "2021-03-07T17:50:15.038900Z",
     "shell.execute_reply.started": "2021-03-07T17:50:15.001005Z"
    }
   },
   "outputs": [],
   "source": [
    "X_train_res, y_train_res = sm.fit_sample(X_train, y_train)"
   ]
  },
  {
   "cell_type": "code",
   "execution_count": null,
   "metadata": {},
   "outputs": [],
   "source": [
    "# sm.fit_resample(X_train,y_train)"
   ]
  },
  {
   "cell_type": "code",
   "execution_count": 70,
   "metadata": {
    "ExecuteTime": {
     "end_time": "2021-12-11T05:13:20.773342Z",
     "start_time": "2021-12-11T05:13:20.753392Z"
    }
   },
   "outputs": [
    {
     "data": {
      "text/plain": [
       "0    2698\n",
       "1     482\n",
       "Name: attack, dtype: int64"
      ]
     },
     "execution_count": 70,
     "metadata": {},
     "output_type": "execute_result"
    }
   ],
   "source": [
    "y_train.value_counts()"
   ]
  },
  {
   "cell_type": "code",
   "execution_count": 71,
   "metadata": {
    "ExecuteTime": {
     "end_time": "2021-12-11T05:13:33.528306Z",
     "start_time": "2021-12-11T05:13:33.518335Z"
    }
   },
   "outputs": [
    {
     "data": {
      "text/plain": [
       "2216"
      ]
     },
     "execution_count": 71,
     "metadata": {},
     "output_type": "execute_result"
    }
   ],
   "source": [
    "2698-482"
   ]
  },
  {
   "cell_type": "code",
   "execution_count": 72,
   "metadata": {
    "ExecuteTime": {
     "end_time": "2021-12-11T05:13:45.255334Z",
     "start_time": "2021-12-11T05:13:45.232399Z"
    }
   },
   "outputs": [
    {
     "data": {
      "text/plain": [
       "0    0.848428\n",
       "1    0.151572\n",
       "Name: attack, dtype: float64"
      ]
     },
     "execution_count": 72,
     "metadata": {},
     "output_type": "execute_result"
    }
   ],
   "source": [
    "y_train.value_counts(1)"
   ]
  },
  {
   "cell_type": "code",
   "execution_count": 73,
   "metadata": {
    "ExecuteTime": {
     "end_time": "2021-12-11T05:13:56.829005Z",
     "start_time": "2021-12-11T05:13:56.819034Z"
    }
   },
   "outputs": [
    {
     "data": {
      "text/plain": [
       "0    0.5\n",
       "1    0.5\n",
       "Name: attack, dtype: float64"
      ]
     },
     "execution_count": 73,
     "metadata": {},
     "output_type": "execute_result"
    }
   ],
   "source": [
    "y_train_res.value_counts(1)"
   ]
  },
  {
   "cell_type": "code",
   "execution_count": 74,
   "metadata": {
    "ExecuteTime": {
     "end_time": "2021-12-11T05:14:20.346807Z",
     "start_time": "2021-12-11T05:14:20.329855Z"
    }
   },
   "outputs": [
    {
     "data": {
      "text/plain": [
       "0    2698\n",
       "1    2698\n",
       "Name: attack, dtype: int64"
      ]
     },
     "execution_count": 74,
     "metadata": {},
     "output_type": "execute_result"
    }
   ],
   "source": [
    "y_train_res.value_counts()"
   ]
  },
  {
   "cell_type": "code",
   "execution_count": 75,
   "metadata": {
    "ExecuteTime": {
     "end_time": "2021-12-11T05:14:40.432166Z",
     "start_time": "2021-12-11T05:14:40.415215Z"
    }
   },
   "outputs": [
    {
     "data": {
      "text/plain": [
       "((3180, 14), (5396, 14))"
      ]
     },
     "execution_count": 75,
     "metadata": {},
     "output_type": "execute_result"
    }
   ],
   "source": [
    "X_train.shape, X_train_res.shape"
   ]
  },
  {
   "cell_type": "code",
   "execution_count": 76,
   "metadata": {
    "ExecuteTime": {
     "end_time": "2021-12-11T05:15:00.562705Z",
     "start_time": "2021-12-11T05:15:00.542733Z"
    }
   },
   "outputs": [
    {
     "data": {
      "text/plain": [
       "2216"
      ]
     },
     "execution_count": 76,
     "metadata": {},
     "output_type": "execute_result"
    }
   ],
   "source": [
    "5396-3180"
   ]
  },
  {
   "cell_type": "markdown",
   "metadata": {},
   "source": [
    "## Naive Bayes with SMOTE"
   ]
  },
  {
   "cell_type": "code",
   "execution_count": 77,
   "metadata": {
    "ExecuteTime": {
     "end_time": "2021-12-11T05:16:17.147192Z",
     "start_time": "2021-12-11T05:16:17.133232Z"
    },
    "execution": {
     "iopub.execute_input": "2021-03-07T17:52:05.853032Z",
     "iopub.status.busy": "2021-03-07T17:52:05.853032Z",
     "iopub.status.idle": "2021-03-07T17:52:05.880957Z",
     "shell.execute_reply": "2021-03-07T17:52:05.879959Z",
     "shell.execute_reply.started": "2021-03-07T17:52:05.853032Z"
    }
   },
   "outputs": [
    {
     "data": {
      "text/plain": [
       "GaussianNB()"
      ]
     },
     "execution_count": 77,
     "metadata": {},
     "output_type": "execute_result"
    }
   ],
   "source": [
    "NB_SM_model = GaussianNB()\n",
    "NB_SM_model.fit(X_train_res, y_train_res)"
   ]
  },
  {
   "cell_type": "markdown",
   "metadata": {},
   "source": [
    "### Training Performance"
   ]
  },
  {
   "cell_type": "code",
   "execution_count": 78,
   "metadata": {
    "ExecuteTime": {
     "end_time": "2021-12-11T05:16:30.675622Z",
     "start_time": "2021-12-11T05:16:30.649691Z"
    },
    "execution": {
     "iopub.execute_input": "2021-03-07T17:52:07.989641Z",
     "iopub.status.busy": "2021-03-07T17:52:07.989641Z",
     "iopub.status.idle": "2021-03-07T17:52:08.036516Z",
     "shell.execute_reply": "2021-03-07T17:52:08.035516Z",
     "shell.execute_reply.started": "2021-03-07T17:52:07.989641Z"
    }
   },
   "outputs": [
    {
     "name": "stdout",
     "output_type": "stream",
     "text": [
      "0.6156412157153447 0.40400296515937734\n"
     ]
    }
   ],
   "source": [
    "## Performance Matrix on train data set with SMOTE\n",
    "NBSM_train_predict = NB_SM_model.predict(X_train_res)\n",
    "NBSM_train_score = NB_SM_model.score(X_train_res, y_train_res)\n",
    "NBSM_train_recall = recall_score(y_train_res,NBSM_train_predict)\n",
    "print(NBSM_train_score,NBSM_train_recall)"
   ]
  },
  {
   "cell_type": "code",
   "execution_count": null,
   "metadata": {
    "execution": {
     "iopub.execute_input": "2021-03-07T17:52:07.989641Z",
     "iopub.status.busy": "2021-03-07T17:52:07.989641Z",
     "iopub.status.idle": "2021-03-07T17:52:08.036516Z",
     "shell.execute_reply": "2021-03-07T17:52:08.035516Z",
     "shell.execute_reply.started": "2021-03-07T17:52:07.989641Z"
    }
   },
   "outputs": [],
   "source": [
    "# plot_confusion_matrix(NB_SM_model,X_train_res,y_train_res)\n",
    "# plt.grid(b=False);"
   ]
  },
  {
   "cell_type": "code",
   "execution_count": null,
   "metadata": {
    "execution": {
     "iopub.execute_input": "2021-03-07T17:52:07.989641Z",
     "iopub.status.busy": "2021-03-07T17:52:07.989641Z",
     "iopub.status.idle": "2021-03-07T17:52:08.036516Z",
     "shell.execute_reply": "2021-03-07T17:52:08.035516Z",
     "shell.execute_reply.started": "2021-03-07T17:52:07.989641Z"
    }
   },
   "outputs": [],
   "source": [
    "# print(classification_report(y_train_res ,NBSM_train_predict))"
   ]
  },
  {
   "cell_type": "markdown",
   "metadata": {},
   "source": [
    "### Test Performance"
   ]
  },
  {
   "cell_type": "code",
   "execution_count": 79,
   "metadata": {
    "ExecuteTime": {
     "end_time": "2021-12-11T05:16:52.820419Z",
     "start_time": "2021-12-11T05:16:52.803465Z"
    },
    "execution": {
     "iopub.execute_input": "2021-03-07T17:52:10.753353Z",
     "iopub.status.busy": "2021-03-07T17:52:10.752356Z",
     "iopub.status.idle": "2021-03-07T17:52:10.790256Z",
     "shell.execute_reply": "2021-03-07T17:52:10.789259Z",
     "shell.execute_reply.started": "2021-03-07T17:52:10.753353Z"
    }
   },
   "outputs": [
    {
     "name": "stdout",
     "output_type": "stream",
     "text": [
      "0.7669811320754717 0.41975308641975306\n"
     ]
    }
   ],
   "source": [
    "## Performance Matrix on test data set\n",
    "NBSM_test_predict = NB_SM_model.predict(X_test)\n",
    "NBSM_test_score = NB_SM_model.score(X_test, y_test)\n",
    "NBSM_test_recall = recall_score(y_test,NBSM_test_predict)\n",
    "print(NBSM_test_score,NBSM_test_recall)"
   ]
  },
  {
   "cell_type": "code",
   "execution_count": null,
   "metadata": {
    "execution": {
     "iopub.execute_input": "2021-03-07T17:52:10.753353Z",
     "iopub.status.busy": "2021-03-07T17:52:10.752356Z",
     "iopub.status.idle": "2021-03-07T17:52:10.790256Z",
     "shell.execute_reply": "2021-03-07T17:52:10.789259Z",
     "shell.execute_reply.started": "2021-03-07T17:52:10.753353Z"
    }
   },
   "outputs": [],
   "source": [
    "# plot_confusion_matrix(NB_SM_model,X_test,y_test)\n",
    "# plt.grid(b=False);"
   ]
  },
  {
   "cell_type": "code",
   "execution_count": null,
   "metadata": {
    "execution": {
     "iopub.execute_input": "2021-03-07T17:52:10.753353Z",
     "iopub.status.busy": "2021-03-07T17:52:10.752356Z",
     "iopub.status.idle": "2021-03-07T17:52:10.790256Z",
     "shell.execute_reply": "2021-03-07T17:52:10.789259Z",
     "shell.execute_reply.started": "2021-03-07T17:52:10.753353Z"
    }
   },
   "outputs": [],
   "source": [
    "# print(classification_report(y_test, NBSM_test_predict))"
   ]
  },
  {
   "cell_type": "markdown",
   "metadata": {},
   "source": [
    "## KNN With SMOTE"
   ]
  },
  {
   "cell_type": "code",
   "execution_count": 80,
   "metadata": {
    "ExecuteTime": {
     "end_time": "2021-12-11T05:17:33.557343Z",
     "start_time": "2021-12-11T05:17:33.523434Z"
    },
    "execution": {
     "iopub.execute_input": "2021-03-07T17:52:12.825330Z",
     "iopub.status.busy": "2021-03-07T17:52:12.825330Z",
     "iopub.status.idle": "2021-03-07T17:52:12.846274Z",
     "shell.execute_reply": "2021-03-07T17:52:12.845309Z",
     "shell.execute_reply.started": "2021-03-07T17:52:12.825330Z"
    }
   },
   "outputs": [
    {
     "data": {
      "text/plain": [
       "KNeighborsClassifier()"
      ]
     },
     "execution_count": 80,
     "metadata": {},
     "output_type": "execute_result"
    }
   ],
   "source": [
    "from sklearn.neighbors import KNeighborsClassifier\n",
    "\n",
    "KNN_SM_model=KNeighborsClassifier()\n",
    "KNN_SM_model.fit(X_train_res,y_train_res)"
   ]
  },
  {
   "cell_type": "markdown",
   "metadata": {},
   "source": [
    "### Training Performance"
   ]
  },
  {
   "cell_type": "code",
   "execution_count": 81,
   "metadata": {
    "ExecuteTime": {
     "end_time": "2021-12-11T05:17:39.301625Z",
     "start_time": "2021-12-11T05:17:37.726620Z"
    },
    "execution": {
     "iopub.execute_input": "2021-03-07T17:52:13.431722Z",
     "iopub.status.busy": "2021-03-07T17:52:13.430724Z",
     "iopub.status.idle": "2021-03-07T17:52:15.298908Z",
     "shell.execute_reply": "2021-03-07T17:52:15.297944Z",
     "shell.execute_reply.started": "2021-03-07T17:52:13.431722Z"
    }
   },
   "outputs": [
    {
     "name": "stdout",
     "output_type": "stream",
     "text": [
      "0.8708302446256486 0.9911045218680504\n"
     ]
    }
   ],
   "source": [
    "## Performance Matrix on train data set\n",
    "KNN_SM_train_predict = KNN_SM_model.predict(X_train_res)\n",
    "KNN_SM_train_score = KNN_SM_model.score(X_train_res, y_train_res)\n",
    "KNN_SM_train_recall_score = recall_score(y_train_res,KNN_SM_train_predict)\n",
    "print(KNN_SM_train_score,KNN_SM_train_recall_score)"
   ]
  },
  {
   "cell_type": "code",
   "execution_count": null,
   "metadata": {
    "execution": {
     "iopub.execute_input": "2021-03-07T17:52:13.431722Z",
     "iopub.status.busy": "2021-03-07T17:52:13.430724Z",
     "iopub.status.idle": "2021-03-07T17:52:15.298908Z",
     "shell.execute_reply": "2021-03-07T17:52:15.297944Z",
     "shell.execute_reply.started": "2021-03-07T17:52:13.431722Z"
    }
   },
   "outputs": [],
   "source": [
    "# plot_confusion_matrix(KNN_SM_model,X_train_res,y_train_res)\n",
    "# plt.grid(b=False);"
   ]
  },
  {
   "cell_type": "code",
   "execution_count": null,
   "metadata": {
    "execution": {
     "iopub.execute_input": "2021-03-07T17:52:13.431722Z",
     "iopub.status.busy": "2021-03-07T17:52:13.430724Z",
     "iopub.status.idle": "2021-03-07T17:52:15.298908Z",
     "shell.execute_reply": "2021-03-07T17:52:15.297944Z",
     "shell.execute_reply.started": "2021-03-07T17:52:13.431722Z"
    }
   },
   "outputs": [],
   "source": [
    "# print(classification_report(y_train_res, KNN_SM_train_predict))"
   ]
  },
  {
   "cell_type": "markdown",
   "metadata": {},
   "source": [
    "### Test Performance"
   ]
  },
  {
   "cell_type": "code",
   "execution_count": 82,
   "metadata": {
    "ExecuteTime": {
     "end_time": "2021-12-11T05:18:02.732787Z",
     "start_time": "2021-12-11T05:18:02.357004Z"
    },
    "execution": {
     "iopub.execute_input": "2021-03-07T17:52:15.304893Z",
     "iopub.status.busy": "2021-03-07T17:52:15.303895Z",
     "iopub.status.idle": "2021-03-07T17:52:15.709808Z",
     "shell.execute_reply": "2021-03-07T17:52:15.708811Z",
     "shell.execute_reply.started": "2021-03-07T17:52:15.304893Z"
    }
   },
   "outputs": [
    {
     "name": "stdout",
     "output_type": "stream",
     "text": [
      "0.6150943396226415 0.49382716049382713\n"
     ]
    }
   ],
   "source": [
    "## Performance Matrix on test data set\n",
    "KNN_SM_test_predict = KNN_SM_model.predict(X_test)\n",
    "KNN_SM_test_score = KNN_SM_model.score(X_test, y_test)\n",
    "KNN_SM_test_recall = recall_score(y_test,KNN_SM_test_predict)\n",
    "print(KNN_SM_test_score,KNN_SM_test_recall)"
   ]
  },
  {
   "cell_type": "code",
   "execution_count": null,
   "metadata": {
    "execution": {
     "iopub.execute_input": "2021-03-07T17:52:15.304893Z",
     "iopub.status.busy": "2021-03-07T17:52:15.303895Z",
     "iopub.status.idle": "2021-03-07T17:52:15.709808Z",
     "shell.execute_reply": "2021-03-07T17:52:15.708811Z",
     "shell.execute_reply.started": "2021-03-07T17:52:15.304893Z"
    }
   },
   "outputs": [],
   "source": [
    "# plot_confusion_matrix(KNN_SM_model,X_test,y_test)\n",
    "# plt.grid(b=False);"
   ]
  },
  {
   "cell_type": "code",
   "execution_count": null,
   "metadata": {
    "execution": {
     "iopub.execute_input": "2021-03-07T17:52:15.304893Z",
     "iopub.status.busy": "2021-03-07T17:52:15.303895Z",
     "iopub.status.idle": "2021-03-07T17:52:15.709808Z",
     "shell.execute_reply": "2021-03-07T17:52:15.708811Z",
     "shell.execute_reply.started": "2021-03-07T17:52:15.304893Z"
    }
   },
   "outputs": [],
   "source": [
    "# print(classification_report(y_test, KNN_SM_test_predict))"
   ]
  },
  {
   "cell_type": "markdown",
   "metadata": {},
   "source": [
    "## Conclusion after SMOTE"
   ]
  },
  {
   "cell_type": "markdown",
   "metadata": {},
   "source": [
    "- Recall for Naive Bayes increased significantly.\n",
    "- Huge Difference between the train and test dataset Recall value for KNN."
   ]
  },
  {
   "cell_type": "markdown",
   "metadata": {},
   "source": [
    "Note: SMOTE as a technique is generally applied if minority class is below 5%. \n",
    "\n",
    "You are advised to perform SMOTE on other models as well to compare the result"
   ]
  },
  {
   "cell_type": "markdown",
   "metadata": {},
   "source": [
    "## Cross Validation on Naive Bayes Model"
   ]
  },
  {
   "cell_type": "code",
   "execution_count": 84,
   "metadata": {
    "ExecuteTime": {
     "end_time": "2021-12-11T05:27:55.865931Z",
     "start_time": "2021-12-11T05:27:55.848979Z"
    },
    "execution": {
     "iopub.execute_input": "2021-03-07T17:54:01.656768Z",
     "iopub.status.busy": "2021-03-07T17:54:01.655773Z",
     "iopub.status.idle": "2021-03-07T17:54:01.760490Z",
     "shell.execute_reply": "2021-03-07T17:54:01.759494Z",
     "shell.execute_reply.started": "2021-03-07T17:54:01.656768Z"
    }
   },
   "outputs": [],
   "source": [
    "from sklearn.model_selection import cross_val_score,KFold,StratifiedKFold"
   ]
  },
  {
   "cell_type": "code",
   "execution_count": null,
   "metadata": {},
   "outputs": [],
   "source": [
    "# kf=KFold()"
   ]
  },
  {
   "cell_type": "code",
   "execution_count": null,
   "metadata": {},
   "outputs": [],
   "source": [
    "# skf= StratifiedKFold()"
   ]
  },
  {
   "cell_type": "code",
   "execution_count": 85,
   "metadata": {
    "ExecuteTime": {
     "end_time": "2021-12-11T05:27:58.562923Z",
     "start_time": "2021-12-11T05:27:58.503049Z"
    },
    "execution": {
     "iopub.execute_input": "2021-03-07T17:54:01.656768Z",
     "iopub.status.busy": "2021-03-07T17:54:01.655773Z",
     "iopub.status.idle": "2021-03-07T17:54:01.760490Z",
     "shell.execute_reply": "2021-03-07T17:54:01.759494Z",
     "shell.execute_reply.started": "2021-03-07T17:54:01.656768Z"
    }
   },
   "outputs": [
    {
     "data": {
      "text/plain": [
       "array([0.63518519, 0.60185185, 0.62222222, 0.62962963, 0.6       ,\n",
       "       0.61666667, 0.6122449 , 0.6270872 , 0.61781076, 0.58441558])"
      ]
     },
     "execution_count": 85,
     "metadata": {},
     "output_type": "execute_result"
    }
   ],
   "source": [
    "scores = cross_val_score(NB_SM_model, X_train_res, y_train_res, cv=10) # cv = kf or skf\n",
    "scores # accuracy scores"
   ]
  },
  {
   "cell_type": "code",
   "execution_count": 86,
   "metadata": {
    "ExecuteTime": {
     "end_time": "2021-12-11T05:28:36.986900Z",
     "start_time": "2021-12-11T05:28:36.976926Z"
    }
   },
   "outputs": [
    {
     "data": {
      "text/plain": [
       "0.6147113997113997"
      ]
     },
     "execution_count": 86,
     "metadata": {},
     "output_type": "execute_result"
    }
   ],
   "source": [
    "scores.mean()"
   ]
  },
  {
   "cell_type": "code",
   "execution_count": 87,
   "metadata": {
    "ExecuteTime": {
     "end_time": "2021-12-11T05:29:40.835772Z",
     "start_time": "2021-12-11T05:29:40.750765Z"
    }
   },
   "outputs": [
    {
     "data": {
      "text/plain": [
       "array([0.4037037 , 0.42222222, 0.4037037 , 0.41111111, 0.38888889,\n",
       "       0.40740741, 0.42379182, 0.41635688, 0.40740741, 0.35185185])"
      ]
     },
     "execution_count": 87,
     "metadata": {},
     "output_type": "execute_result"
    }
   ],
   "source": [
    "rec_scores = cross_val_score(NB_SM_model,X_train_res,y_train_res, cv=10,scoring='recall')\n",
    "rec_scores # recall scores on each iteration of the 10 fold cross validation"
   ]
  },
  {
   "cell_type": "code",
   "execution_count": 88,
   "metadata": {
    "ExecuteTime": {
     "end_time": "2021-12-11T05:30:29.679099Z",
     "start_time": "2021-12-11T05:30:29.663143Z"
    }
   },
   "outputs": [
    {
     "data": {
      "text/plain": [
       "0.40364449951810555"
      ]
     },
     "execution_count": 88,
     "metadata": {},
     "output_type": "execute_result"
    }
   ],
   "source": [
    "rec_scores.mean() # average recall score across all iterations of 10 fold cv"
   ]
  },
  {
   "cell_type": "code",
   "execution_count": null,
   "metadata": {
    "execution": {
     "iopub.execute_input": "2021-03-07T17:54:58.414672Z",
     "iopub.status.busy": "2021-03-07T17:54:58.413678Z",
     "iopub.status.idle": "2021-03-07T17:54:58.421653Z",
     "shell.execute_reply": "2021-03-07T17:54:58.419658Z",
     "shell.execute_reply.started": "2021-03-07T17:54:58.414672Z"
    }
   },
   "outputs": [],
   "source": [
    "## After 10 fold cross validation, accuracy & recall scores respectively for all 10 folds are almost same. \n",
    "## Hence our model is valid.\n",
    "## Students are advised to perform CV on other models and compare the results."
   ]
  },
  {
   "cell_type": "markdown",
   "metadata": {},
   "source": [
    "**Pl. note - Model building is an iterative process. Model performance both on the test and train dataset can be improved using feature engineering, feature extraction, hyper parameter tuning (including combination of various parameters).\n",
    "Model has to match the business objective and hence various permutation and combinations can be tried on to refine the model.**"
   ]
  }
 ],
 "metadata": {
  "colab": {
   "collapsed_sections": [],
   "name": "Multiple_Linear_Regression_Food_Solution_final.ipynb",
   "provenance": []
  },
  "kernelspec": {
   "display_name": "Python 3 (ipykernel)",
   "language": "python",
   "name": "python3"
  },
  "language_info": {
   "codemirror_mode": {
    "name": "ipython",
    "version": 3
   },
   "file_extension": ".py",
   "mimetype": "text/x-python",
   "name": "python",
   "nbconvert_exporter": "python",
   "pygments_lexer": "ipython3",
   "version": "3.9.12"
  },
  "latex_envs": {
   "LaTeX_envs_menu_present": true,
   "autoclose": false,
   "autocomplete": true,
   "bibliofile": "biblio.bib",
   "cite_by": "apalike",
   "current_citInitial": 1,
   "eqLabelWithNumbers": true,
   "eqNumInitial": 1,
   "hotkeys": {
    "equation": "Ctrl-E",
    "itemize": "Ctrl-I"
   },
   "labels_anchors": false,
   "latex_user_defs": false,
   "report_style_numbering": false,
   "user_envs_cfg": false
  },
  "toc": {
   "base_numbering": 1,
   "nav_menu": {},
   "number_sections": true,
   "sideBar": true,
   "skip_h1_title": false,
   "title_cell": "Table of Contents",
   "title_sidebar": "Contents",
   "toc_cell": false,
   "toc_position": {
    "height": "calc(100% - 180px)",
    "left": "10px",
    "top": "150px",
    "width": "307.2px"
   },
   "toc_section_display": true,
   "toc_window_display": false
  },
  "toc-autonumbering": false,
  "varInspector": {
   "cols": {
    "lenName": 16,
    "lenType": 16,
    "lenVar": 40
   },
   "kernels_config": {
    "python": {
     "delete_cmd_postfix": "",
     "delete_cmd_prefix": "del ",
     "library": "var_list.py",
     "varRefreshCmd": "print(var_dic_list())"
    },
    "r": {
     "delete_cmd_postfix": ") ",
     "delete_cmd_prefix": "rm(",
     "library": "var_list.r",
     "varRefreshCmd": "cat(var_dic_list()) "
    }
   },
   "types_to_exclude": [
    "module",
    "function",
    "builtin_function_or_method",
    "instance",
    "_Feature"
   ],
   "window_display": false
  }
 },
 "nbformat": 4,
 "nbformat_minor": 4
}
